{
  "nbformat": 4,
  "nbformat_minor": 0,
  "metadata": {
    "colab": {
      "provenance": [],
      "include_colab_link": true
    },
    "kernelspec": {
      "name": "python3",
      "display_name": "Python 3"
    },
    "language_info": {
      "name": "python"
    },
    "widgets": {
      "application/vnd.jupyter.widget-state+json": {
        "e50846b39af64d0b8c875cd448bfdd34": {
          "model_module": "@jupyter-widgets/controls",
          "model_name": "HBoxModel",
          "model_module_version": "1.5.0",
          "state": {
            "_dom_classes": [],
            "_model_module": "@jupyter-widgets/controls",
            "_model_module_version": "1.5.0",
            "_model_name": "HBoxModel",
            "_view_count": null,
            "_view_module": "@jupyter-widgets/controls",
            "_view_module_version": "1.5.0",
            "_view_name": "HBoxView",
            "box_style": "",
            "children": [
              "IPY_MODEL_6a06d5db56fb45f4b7b6dbb3a7cae080",
              "IPY_MODEL_a1bb803a9c6b438f8e32ef18facf0660",
              "IPY_MODEL_bf1ebda2e2764f55b6a1f97677459d22"
            ],
            "layout": "IPY_MODEL_b15597319f4c4115bf887bdf0a72f297"
          }
        },
        "6a06d5db56fb45f4b7b6dbb3a7cae080": {
          "model_module": "@jupyter-widgets/controls",
          "model_name": "HTMLModel",
          "model_module_version": "1.5.0",
          "state": {
            "_dom_classes": [],
            "_model_module": "@jupyter-widgets/controls",
            "_model_module_version": "1.5.0",
            "_model_name": "HTMLModel",
            "_view_count": null,
            "_view_module": "@jupyter-widgets/controls",
            "_view_module_version": "1.5.0",
            "_view_name": "HTMLView",
            "description": "",
            "description_tooltip": null,
            "layout": "IPY_MODEL_79e0dbe1a198406799b83811d7b138c0",
            "placeholder": "​",
            "style": "IPY_MODEL_fc810b3dd2914970b570a37c30b8ef00",
            "value": "Summarize dataset: 100%"
          }
        },
        "a1bb803a9c6b438f8e32ef18facf0660": {
          "model_module": "@jupyter-widgets/controls",
          "model_name": "FloatProgressModel",
          "model_module_version": "1.5.0",
          "state": {
            "_dom_classes": [],
            "_model_module": "@jupyter-widgets/controls",
            "_model_module_version": "1.5.0",
            "_model_name": "FloatProgressModel",
            "_view_count": null,
            "_view_module": "@jupyter-widgets/controls",
            "_view_module_version": "1.5.0",
            "_view_name": "ProgressView",
            "bar_style": "success",
            "description": "",
            "description_tooltip": null,
            "layout": "IPY_MODEL_67a865f91c914aabb6dea7aaeaba032c",
            "max": 5,
            "min": 0,
            "orientation": "horizontal",
            "style": "IPY_MODEL_ff7541e4ae1b4e43bf3a919996edf216",
            "value": 5
          }
        },
        "bf1ebda2e2764f55b6a1f97677459d22": {
          "model_module": "@jupyter-widgets/controls",
          "model_name": "HTMLModel",
          "model_module_version": "1.5.0",
          "state": {
            "_dom_classes": [],
            "_model_module": "@jupyter-widgets/controls",
            "_model_module_version": "1.5.0",
            "_model_name": "HTMLModel",
            "_view_count": null,
            "_view_module": "@jupyter-widgets/controls",
            "_view_module_version": "1.5.0",
            "_view_name": "HTMLView",
            "description": "",
            "description_tooltip": null,
            "layout": "IPY_MODEL_8c7cfeaff29e4fbd857d42781bc5dc3e",
            "placeholder": "​",
            "style": "IPY_MODEL_0c22b2a5d0a5464d8c06fd18408c1081",
            "value": " 39/39 [00:02&lt;00:00,  8.34it/s, Completed]"
          }
        },
        "b15597319f4c4115bf887bdf0a72f297": {
          "model_module": "@jupyter-widgets/base",
          "model_name": "LayoutModel",
          "model_module_version": "1.2.0",
          "state": {
            "_model_module": "@jupyter-widgets/base",
            "_model_module_version": "1.2.0",
            "_model_name": "LayoutModel",
            "_view_count": null,
            "_view_module": "@jupyter-widgets/base",
            "_view_module_version": "1.2.0",
            "_view_name": "LayoutView",
            "align_content": null,
            "align_items": null,
            "align_self": null,
            "border": null,
            "bottom": null,
            "display": null,
            "flex": null,
            "flex_flow": null,
            "grid_area": null,
            "grid_auto_columns": null,
            "grid_auto_flow": null,
            "grid_auto_rows": null,
            "grid_column": null,
            "grid_gap": null,
            "grid_row": null,
            "grid_template_areas": null,
            "grid_template_columns": null,
            "grid_template_rows": null,
            "height": null,
            "justify_content": null,
            "justify_items": null,
            "left": null,
            "margin": null,
            "max_height": null,
            "max_width": null,
            "min_height": null,
            "min_width": null,
            "object_fit": null,
            "object_position": null,
            "order": null,
            "overflow": null,
            "overflow_x": null,
            "overflow_y": null,
            "padding": null,
            "right": null,
            "top": null,
            "visibility": null,
            "width": null
          }
        },
        "79e0dbe1a198406799b83811d7b138c0": {
          "model_module": "@jupyter-widgets/base",
          "model_name": "LayoutModel",
          "model_module_version": "1.2.0",
          "state": {
            "_model_module": "@jupyter-widgets/base",
            "_model_module_version": "1.2.0",
            "_model_name": "LayoutModel",
            "_view_count": null,
            "_view_module": "@jupyter-widgets/base",
            "_view_module_version": "1.2.0",
            "_view_name": "LayoutView",
            "align_content": null,
            "align_items": null,
            "align_self": null,
            "border": null,
            "bottom": null,
            "display": null,
            "flex": null,
            "flex_flow": null,
            "grid_area": null,
            "grid_auto_columns": null,
            "grid_auto_flow": null,
            "grid_auto_rows": null,
            "grid_column": null,
            "grid_gap": null,
            "grid_row": null,
            "grid_template_areas": null,
            "grid_template_columns": null,
            "grid_template_rows": null,
            "height": null,
            "justify_content": null,
            "justify_items": null,
            "left": null,
            "margin": null,
            "max_height": null,
            "max_width": null,
            "min_height": null,
            "min_width": null,
            "object_fit": null,
            "object_position": null,
            "order": null,
            "overflow": null,
            "overflow_x": null,
            "overflow_y": null,
            "padding": null,
            "right": null,
            "top": null,
            "visibility": null,
            "width": null
          }
        },
        "fc810b3dd2914970b570a37c30b8ef00": {
          "model_module": "@jupyter-widgets/controls",
          "model_name": "DescriptionStyleModel",
          "model_module_version": "1.5.0",
          "state": {
            "_model_module": "@jupyter-widgets/controls",
            "_model_module_version": "1.5.0",
            "_model_name": "DescriptionStyleModel",
            "_view_count": null,
            "_view_module": "@jupyter-widgets/base",
            "_view_module_version": "1.2.0",
            "_view_name": "StyleView",
            "description_width": ""
          }
        },
        "67a865f91c914aabb6dea7aaeaba032c": {
          "model_module": "@jupyter-widgets/base",
          "model_name": "LayoutModel",
          "model_module_version": "1.2.0",
          "state": {
            "_model_module": "@jupyter-widgets/base",
            "_model_module_version": "1.2.0",
            "_model_name": "LayoutModel",
            "_view_count": null,
            "_view_module": "@jupyter-widgets/base",
            "_view_module_version": "1.2.0",
            "_view_name": "LayoutView",
            "align_content": null,
            "align_items": null,
            "align_self": null,
            "border": null,
            "bottom": null,
            "display": null,
            "flex": null,
            "flex_flow": null,
            "grid_area": null,
            "grid_auto_columns": null,
            "grid_auto_flow": null,
            "grid_auto_rows": null,
            "grid_column": null,
            "grid_gap": null,
            "grid_row": null,
            "grid_template_areas": null,
            "grid_template_columns": null,
            "grid_template_rows": null,
            "height": null,
            "justify_content": null,
            "justify_items": null,
            "left": null,
            "margin": null,
            "max_height": null,
            "max_width": null,
            "min_height": null,
            "min_width": null,
            "object_fit": null,
            "object_position": null,
            "order": null,
            "overflow": null,
            "overflow_x": null,
            "overflow_y": null,
            "padding": null,
            "right": null,
            "top": null,
            "visibility": null,
            "width": null
          }
        },
        "ff7541e4ae1b4e43bf3a919996edf216": {
          "model_module": "@jupyter-widgets/controls",
          "model_name": "ProgressStyleModel",
          "model_module_version": "1.5.0",
          "state": {
            "_model_module": "@jupyter-widgets/controls",
            "_model_module_version": "1.5.0",
            "_model_name": "ProgressStyleModel",
            "_view_count": null,
            "_view_module": "@jupyter-widgets/base",
            "_view_module_version": "1.2.0",
            "_view_name": "StyleView",
            "bar_color": null,
            "description_width": ""
          }
        },
        "8c7cfeaff29e4fbd857d42781bc5dc3e": {
          "model_module": "@jupyter-widgets/base",
          "model_name": "LayoutModel",
          "model_module_version": "1.2.0",
          "state": {
            "_model_module": "@jupyter-widgets/base",
            "_model_module_version": "1.2.0",
            "_model_name": "LayoutModel",
            "_view_count": null,
            "_view_module": "@jupyter-widgets/base",
            "_view_module_version": "1.2.0",
            "_view_name": "LayoutView",
            "align_content": null,
            "align_items": null,
            "align_self": null,
            "border": null,
            "bottom": null,
            "display": null,
            "flex": null,
            "flex_flow": null,
            "grid_area": null,
            "grid_auto_columns": null,
            "grid_auto_flow": null,
            "grid_auto_rows": null,
            "grid_column": null,
            "grid_gap": null,
            "grid_row": null,
            "grid_template_areas": null,
            "grid_template_columns": null,
            "grid_template_rows": null,
            "height": null,
            "justify_content": null,
            "justify_items": null,
            "left": null,
            "margin": null,
            "max_height": null,
            "max_width": null,
            "min_height": null,
            "min_width": null,
            "object_fit": null,
            "object_position": null,
            "order": null,
            "overflow": null,
            "overflow_x": null,
            "overflow_y": null,
            "padding": null,
            "right": null,
            "top": null,
            "visibility": null,
            "width": null
          }
        },
        "0c22b2a5d0a5464d8c06fd18408c1081": {
          "model_module": "@jupyter-widgets/controls",
          "model_name": "DescriptionStyleModel",
          "model_module_version": "1.5.0",
          "state": {
            "_model_module": "@jupyter-widgets/controls",
            "_model_module_version": "1.5.0",
            "_model_name": "DescriptionStyleModel",
            "_view_count": null,
            "_view_module": "@jupyter-widgets/base",
            "_view_module_version": "1.2.0",
            "_view_name": "StyleView",
            "description_width": ""
          }
        },
        "97793782abc74178946d296249d0a415": {
          "model_module": "@jupyter-widgets/controls",
          "model_name": "HBoxModel",
          "model_module_version": "1.5.0",
          "state": {
            "_dom_classes": [],
            "_model_module": "@jupyter-widgets/controls",
            "_model_module_version": "1.5.0",
            "_model_name": "HBoxModel",
            "_view_count": null,
            "_view_module": "@jupyter-widgets/controls",
            "_view_module_version": "1.5.0",
            "_view_name": "HBoxView",
            "box_style": "",
            "children": [
              "IPY_MODEL_7a859760104849fcb65a43f27046ef73",
              "IPY_MODEL_cc5948868dee44db8223af4b053e4d36",
              "IPY_MODEL_5975e5ce20b443248b29e89bff38609d"
            ],
            "layout": "IPY_MODEL_cc39de5c11ca48349345eac61fbe1a58"
          }
        },
        "7a859760104849fcb65a43f27046ef73": {
          "model_module": "@jupyter-widgets/controls",
          "model_name": "HTMLModel",
          "model_module_version": "1.5.0",
          "state": {
            "_dom_classes": [],
            "_model_module": "@jupyter-widgets/controls",
            "_model_module_version": "1.5.0",
            "_model_name": "HTMLModel",
            "_view_count": null,
            "_view_module": "@jupyter-widgets/controls",
            "_view_module_version": "1.5.0",
            "_view_name": "HTMLView",
            "description": "",
            "description_tooltip": null,
            "layout": "IPY_MODEL_a7c2ae319897456780aed3604a8a212c",
            "placeholder": "​",
            "style": "IPY_MODEL_def3310a45c74c48b54acd98ec4bc834",
            "value": "Generate report structure: 100%"
          }
        },
        "cc5948868dee44db8223af4b053e4d36": {
          "model_module": "@jupyter-widgets/controls",
          "model_name": "FloatProgressModel",
          "model_module_version": "1.5.0",
          "state": {
            "_dom_classes": [],
            "_model_module": "@jupyter-widgets/controls",
            "_model_module_version": "1.5.0",
            "_model_name": "FloatProgressModel",
            "_view_count": null,
            "_view_module": "@jupyter-widgets/controls",
            "_view_module_version": "1.5.0",
            "_view_name": "ProgressView",
            "bar_style": "success",
            "description": "",
            "description_tooltip": null,
            "layout": "IPY_MODEL_9c648f3e99a74d7886469f52e71d7cf6",
            "max": 1,
            "min": 0,
            "orientation": "horizontal",
            "style": "IPY_MODEL_3277dbdbef8240b1817e8db5399aebfd",
            "value": 1
          }
        },
        "5975e5ce20b443248b29e89bff38609d": {
          "model_module": "@jupyter-widgets/controls",
          "model_name": "HTMLModel",
          "model_module_version": "1.5.0",
          "state": {
            "_dom_classes": [],
            "_model_module": "@jupyter-widgets/controls",
            "_model_module_version": "1.5.0",
            "_model_name": "HTMLModel",
            "_view_count": null,
            "_view_module": "@jupyter-widgets/controls",
            "_view_module_version": "1.5.0",
            "_view_name": "HTMLView",
            "description": "",
            "description_tooltip": null,
            "layout": "IPY_MODEL_d5864c1f4d6e465d85951a533fb75b47",
            "placeholder": "​",
            "style": "IPY_MODEL_8b276837d6054143868ec52ca9f2e9d8",
            "value": " 1/1 [00:07&lt;00:00,  7.27s/it]"
          }
        },
        "cc39de5c11ca48349345eac61fbe1a58": {
          "model_module": "@jupyter-widgets/base",
          "model_name": "LayoutModel",
          "model_module_version": "1.2.0",
          "state": {
            "_model_module": "@jupyter-widgets/base",
            "_model_module_version": "1.2.0",
            "_model_name": "LayoutModel",
            "_view_count": null,
            "_view_module": "@jupyter-widgets/base",
            "_view_module_version": "1.2.0",
            "_view_name": "LayoutView",
            "align_content": null,
            "align_items": null,
            "align_self": null,
            "border": null,
            "bottom": null,
            "display": null,
            "flex": null,
            "flex_flow": null,
            "grid_area": null,
            "grid_auto_columns": null,
            "grid_auto_flow": null,
            "grid_auto_rows": null,
            "grid_column": null,
            "grid_gap": null,
            "grid_row": null,
            "grid_template_areas": null,
            "grid_template_columns": null,
            "grid_template_rows": null,
            "height": null,
            "justify_content": null,
            "justify_items": null,
            "left": null,
            "margin": null,
            "max_height": null,
            "max_width": null,
            "min_height": null,
            "min_width": null,
            "object_fit": null,
            "object_position": null,
            "order": null,
            "overflow": null,
            "overflow_x": null,
            "overflow_y": null,
            "padding": null,
            "right": null,
            "top": null,
            "visibility": null,
            "width": null
          }
        },
        "a7c2ae319897456780aed3604a8a212c": {
          "model_module": "@jupyter-widgets/base",
          "model_name": "LayoutModel",
          "model_module_version": "1.2.0",
          "state": {
            "_model_module": "@jupyter-widgets/base",
            "_model_module_version": "1.2.0",
            "_model_name": "LayoutModel",
            "_view_count": null,
            "_view_module": "@jupyter-widgets/base",
            "_view_module_version": "1.2.0",
            "_view_name": "LayoutView",
            "align_content": null,
            "align_items": null,
            "align_self": null,
            "border": null,
            "bottom": null,
            "display": null,
            "flex": null,
            "flex_flow": null,
            "grid_area": null,
            "grid_auto_columns": null,
            "grid_auto_flow": null,
            "grid_auto_rows": null,
            "grid_column": null,
            "grid_gap": null,
            "grid_row": null,
            "grid_template_areas": null,
            "grid_template_columns": null,
            "grid_template_rows": null,
            "height": null,
            "justify_content": null,
            "justify_items": null,
            "left": null,
            "margin": null,
            "max_height": null,
            "max_width": null,
            "min_height": null,
            "min_width": null,
            "object_fit": null,
            "object_position": null,
            "order": null,
            "overflow": null,
            "overflow_x": null,
            "overflow_y": null,
            "padding": null,
            "right": null,
            "top": null,
            "visibility": null,
            "width": null
          }
        },
        "def3310a45c74c48b54acd98ec4bc834": {
          "model_module": "@jupyter-widgets/controls",
          "model_name": "DescriptionStyleModel",
          "model_module_version": "1.5.0",
          "state": {
            "_model_module": "@jupyter-widgets/controls",
            "_model_module_version": "1.5.0",
            "_model_name": "DescriptionStyleModel",
            "_view_count": null,
            "_view_module": "@jupyter-widgets/base",
            "_view_module_version": "1.2.0",
            "_view_name": "StyleView",
            "description_width": ""
          }
        },
        "9c648f3e99a74d7886469f52e71d7cf6": {
          "model_module": "@jupyter-widgets/base",
          "model_name": "LayoutModel",
          "model_module_version": "1.2.0",
          "state": {
            "_model_module": "@jupyter-widgets/base",
            "_model_module_version": "1.2.0",
            "_model_name": "LayoutModel",
            "_view_count": null,
            "_view_module": "@jupyter-widgets/base",
            "_view_module_version": "1.2.0",
            "_view_name": "LayoutView",
            "align_content": null,
            "align_items": null,
            "align_self": null,
            "border": null,
            "bottom": null,
            "display": null,
            "flex": null,
            "flex_flow": null,
            "grid_area": null,
            "grid_auto_columns": null,
            "grid_auto_flow": null,
            "grid_auto_rows": null,
            "grid_column": null,
            "grid_gap": null,
            "grid_row": null,
            "grid_template_areas": null,
            "grid_template_columns": null,
            "grid_template_rows": null,
            "height": null,
            "justify_content": null,
            "justify_items": null,
            "left": null,
            "margin": null,
            "max_height": null,
            "max_width": null,
            "min_height": null,
            "min_width": null,
            "object_fit": null,
            "object_position": null,
            "order": null,
            "overflow": null,
            "overflow_x": null,
            "overflow_y": null,
            "padding": null,
            "right": null,
            "top": null,
            "visibility": null,
            "width": null
          }
        },
        "3277dbdbef8240b1817e8db5399aebfd": {
          "model_module": "@jupyter-widgets/controls",
          "model_name": "ProgressStyleModel",
          "model_module_version": "1.5.0",
          "state": {
            "_model_module": "@jupyter-widgets/controls",
            "_model_module_version": "1.5.0",
            "_model_name": "ProgressStyleModel",
            "_view_count": null,
            "_view_module": "@jupyter-widgets/base",
            "_view_module_version": "1.2.0",
            "_view_name": "StyleView",
            "bar_color": null,
            "description_width": ""
          }
        },
        "d5864c1f4d6e465d85951a533fb75b47": {
          "model_module": "@jupyter-widgets/base",
          "model_name": "LayoutModel",
          "model_module_version": "1.2.0",
          "state": {
            "_model_module": "@jupyter-widgets/base",
            "_model_module_version": "1.2.0",
            "_model_name": "LayoutModel",
            "_view_count": null,
            "_view_module": "@jupyter-widgets/base",
            "_view_module_version": "1.2.0",
            "_view_name": "LayoutView",
            "align_content": null,
            "align_items": null,
            "align_self": null,
            "border": null,
            "bottom": null,
            "display": null,
            "flex": null,
            "flex_flow": null,
            "grid_area": null,
            "grid_auto_columns": null,
            "grid_auto_flow": null,
            "grid_auto_rows": null,
            "grid_column": null,
            "grid_gap": null,
            "grid_row": null,
            "grid_template_areas": null,
            "grid_template_columns": null,
            "grid_template_rows": null,
            "height": null,
            "justify_content": null,
            "justify_items": null,
            "left": null,
            "margin": null,
            "max_height": null,
            "max_width": null,
            "min_height": null,
            "min_width": null,
            "object_fit": null,
            "object_position": null,
            "order": null,
            "overflow": null,
            "overflow_x": null,
            "overflow_y": null,
            "padding": null,
            "right": null,
            "top": null,
            "visibility": null,
            "width": null
          }
        },
        "8b276837d6054143868ec52ca9f2e9d8": {
          "model_module": "@jupyter-widgets/controls",
          "model_name": "DescriptionStyleModel",
          "model_module_version": "1.5.0",
          "state": {
            "_model_module": "@jupyter-widgets/controls",
            "_model_module_version": "1.5.0",
            "_model_name": "DescriptionStyleModel",
            "_view_count": null,
            "_view_module": "@jupyter-widgets/base",
            "_view_module_version": "1.2.0",
            "_view_name": "StyleView",
            "description_width": ""
          }
        },
        "48305857956146bca64a4e3c843fe24e": {
          "model_module": "@jupyter-widgets/controls",
          "model_name": "HBoxModel",
          "model_module_version": "1.5.0",
          "state": {
            "_dom_classes": [],
            "_model_module": "@jupyter-widgets/controls",
            "_model_module_version": "1.5.0",
            "_model_name": "HBoxModel",
            "_view_count": null,
            "_view_module": "@jupyter-widgets/controls",
            "_view_module_version": "1.5.0",
            "_view_name": "HBoxView",
            "box_style": "",
            "children": [
              "IPY_MODEL_8644d422e51a49c487fa4e01f98022be",
              "IPY_MODEL_797bf2e9fc9845278bc377296ad8e9de",
              "IPY_MODEL_ac202c2dc80440bab1d0187ba2407d2e"
            ],
            "layout": "IPY_MODEL_79346757e6f94e74b7eef1cc1efd64ce"
          }
        },
        "8644d422e51a49c487fa4e01f98022be": {
          "model_module": "@jupyter-widgets/controls",
          "model_name": "HTMLModel",
          "model_module_version": "1.5.0",
          "state": {
            "_dom_classes": [],
            "_model_module": "@jupyter-widgets/controls",
            "_model_module_version": "1.5.0",
            "_model_name": "HTMLModel",
            "_view_count": null,
            "_view_module": "@jupyter-widgets/controls",
            "_view_module_version": "1.5.0",
            "_view_name": "HTMLView",
            "description": "",
            "description_tooltip": null,
            "layout": "IPY_MODEL_e99df58035cb423a9391f6ccae7f2bd6",
            "placeholder": "​",
            "style": "IPY_MODEL_c4ca6c42b4824f73aa43638a0c0f2226",
            "value": "Render HTML: 100%"
          }
        },
        "797bf2e9fc9845278bc377296ad8e9de": {
          "model_module": "@jupyter-widgets/controls",
          "model_name": "FloatProgressModel",
          "model_module_version": "1.5.0",
          "state": {
            "_dom_classes": [],
            "_model_module": "@jupyter-widgets/controls",
            "_model_module_version": "1.5.0",
            "_model_name": "FloatProgressModel",
            "_view_count": null,
            "_view_module": "@jupyter-widgets/controls",
            "_view_module_version": "1.5.0",
            "_view_name": "ProgressView",
            "bar_style": "success",
            "description": "",
            "description_tooltip": null,
            "layout": "IPY_MODEL_4f67b9d4ee294452a33b59ea54102e80",
            "max": 1,
            "min": 0,
            "orientation": "horizontal",
            "style": "IPY_MODEL_5056e071bab34d94b8e815b3fad85069",
            "value": 1
          }
        },
        "ac202c2dc80440bab1d0187ba2407d2e": {
          "model_module": "@jupyter-widgets/controls",
          "model_name": "HTMLModel",
          "model_module_version": "1.5.0",
          "state": {
            "_dom_classes": [],
            "_model_module": "@jupyter-widgets/controls",
            "_model_module_version": "1.5.0",
            "_model_name": "HTMLModel",
            "_view_count": null,
            "_view_module": "@jupyter-widgets/controls",
            "_view_module_version": "1.5.0",
            "_view_name": "HTMLView",
            "description": "",
            "description_tooltip": null,
            "layout": "IPY_MODEL_7172d5ba29ab483d918fe99e9af19cd0",
            "placeholder": "​",
            "style": "IPY_MODEL_87a2790629aa4e20b0791c966a4add82",
            "value": " 1/1 [00:01&lt;00:00,  1.09s/it]"
          }
        },
        "79346757e6f94e74b7eef1cc1efd64ce": {
          "model_module": "@jupyter-widgets/base",
          "model_name": "LayoutModel",
          "model_module_version": "1.2.0",
          "state": {
            "_model_module": "@jupyter-widgets/base",
            "_model_module_version": "1.2.0",
            "_model_name": "LayoutModel",
            "_view_count": null,
            "_view_module": "@jupyter-widgets/base",
            "_view_module_version": "1.2.0",
            "_view_name": "LayoutView",
            "align_content": null,
            "align_items": null,
            "align_self": null,
            "border": null,
            "bottom": null,
            "display": null,
            "flex": null,
            "flex_flow": null,
            "grid_area": null,
            "grid_auto_columns": null,
            "grid_auto_flow": null,
            "grid_auto_rows": null,
            "grid_column": null,
            "grid_gap": null,
            "grid_row": null,
            "grid_template_areas": null,
            "grid_template_columns": null,
            "grid_template_rows": null,
            "height": null,
            "justify_content": null,
            "justify_items": null,
            "left": null,
            "margin": null,
            "max_height": null,
            "max_width": null,
            "min_height": null,
            "min_width": null,
            "object_fit": null,
            "object_position": null,
            "order": null,
            "overflow": null,
            "overflow_x": null,
            "overflow_y": null,
            "padding": null,
            "right": null,
            "top": null,
            "visibility": null,
            "width": null
          }
        },
        "e99df58035cb423a9391f6ccae7f2bd6": {
          "model_module": "@jupyter-widgets/base",
          "model_name": "LayoutModel",
          "model_module_version": "1.2.0",
          "state": {
            "_model_module": "@jupyter-widgets/base",
            "_model_module_version": "1.2.0",
            "_model_name": "LayoutModel",
            "_view_count": null,
            "_view_module": "@jupyter-widgets/base",
            "_view_module_version": "1.2.0",
            "_view_name": "LayoutView",
            "align_content": null,
            "align_items": null,
            "align_self": null,
            "border": null,
            "bottom": null,
            "display": null,
            "flex": null,
            "flex_flow": null,
            "grid_area": null,
            "grid_auto_columns": null,
            "grid_auto_flow": null,
            "grid_auto_rows": null,
            "grid_column": null,
            "grid_gap": null,
            "grid_row": null,
            "grid_template_areas": null,
            "grid_template_columns": null,
            "grid_template_rows": null,
            "height": null,
            "justify_content": null,
            "justify_items": null,
            "left": null,
            "margin": null,
            "max_height": null,
            "max_width": null,
            "min_height": null,
            "min_width": null,
            "object_fit": null,
            "object_position": null,
            "order": null,
            "overflow": null,
            "overflow_x": null,
            "overflow_y": null,
            "padding": null,
            "right": null,
            "top": null,
            "visibility": null,
            "width": null
          }
        },
        "c4ca6c42b4824f73aa43638a0c0f2226": {
          "model_module": "@jupyter-widgets/controls",
          "model_name": "DescriptionStyleModel",
          "model_module_version": "1.5.0",
          "state": {
            "_model_module": "@jupyter-widgets/controls",
            "_model_module_version": "1.5.0",
            "_model_name": "DescriptionStyleModel",
            "_view_count": null,
            "_view_module": "@jupyter-widgets/base",
            "_view_module_version": "1.2.0",
            "_view_name": "StyleView",
            "description_width": ""
          }
        },
        "4f67b9d4ee294452a33b59ea54102e80": {
          "model_module": "@jupyter-widgets/base",
          "model_name": "LayoutModel",
          "model_module_version": "1.2.0",
          "state": {
            "_model_module": "@jupyter-widgets/base",
            "_model_module_version": "1.2.0",
            "_model_name": "LayoutModel",
            "_view_count": null,
            "_view_module": "@jupyter-widgets/base",
            "_view_module_version": "1.2.0",
            "_view_name": "LayoutView",
            "align_content": null,
            "align_items": null,
            "align_self": null,
            "border": null,
            "bottom": null,
            "display": null,
            "flex": null,
            "flex_flow": null,
            "grid_area": null,
            "grid_auto_columns": null,
            "grid_auto_flow": null,
            "grid_auto_rows": null,
            "grid_column": null,
            "grid_gap": null,
            "grid_row": null,
            "grid_template_areas": null,
            "grid_template_columns": null,
            "grid_template_rows": null,
            "height": null,
            "justify_content": null,
            "justify_items": null,
            "left": null,
            "margin": null,
            "max_height": null,
            "max_width": null,
            "min_height": null,
            "min_width": null,
            "object_fit": null,
            "object_position": null,
            "order": null,
            "overflow": null,
            "overflow_x": null,
            "overflow_y": null,
            "padding": null,
            "right": null,
            "top": null,
            "visibility": null,
            "width": null
          }
        },
        "5056e071bab34d94b8e815b3fad85069": {
          "model_module": "@jupyter-widgets/controls",
          "model_name": "ProgressStyleModel",
          "model_module_version": "1.5.0",
          "state": {
            "_model_module": "@jupyter-widgets/controls",
            "_model_module_version": "1.5.0",
            "_model_name": "ProgressStyleModel",
            "_view_count": null,
            "_view_module": "@jupyter-widgets/base",
            "_view_module_version": "1.2.0",
            "_view_name": "StyleView",
            "bar_color": null,
            "description_width": ""
          }
        },
        "7172d5ba29ab483d918fe99e9af19cd0": {
          "model_module": "@jupyter-widgets/base",
          "model_name": "LayoutModel",
          "model_module_version": "1.2.0",
          "state": {
            "_model_module": "@jupyter-widgets/base",
            "_model_module_version": "1.2.0",
            "_model_name": "LayoutModel",
            "_view_count": null,
            "_view_module": "@jupyter-widgets/base",
            "_view_module_version": "1.2.0",
            "_view_name": "LayoutView",
            "align_content": null,
            "align_items": null,
            "align_self": null,
            "border": null,
            "bottom": null,
            "display": null,
            "flex": null,
            "flex_flow": null,
            "grid_area": null,
            "grid_auto_columns": null,
            "grid_auto_flow": null,
            "grid_auto_rows": null,
            "grid_column": null,
            "grid_gap": null,
            "grid_row": null,
            "grid_template_areas": null,
            "grid_template_columns": null,
            "grid_template_rows": null,
            "height": null,
            "justify_content": null,
            "justify_items": null,
            "left": null,
            "margin": null,
            "max_height": null,
            "max_width": null,
            "min_height": null,
            "min_width": null,
            "object_fit": null,
            "object_position": null,
            "order": null,
            "overflow": null,
            "overflow_x": null,
            "overflow_y": null,
            "padding": null,
            "right": null,
            "top": null,
            "visibility": null,
            "width": null
          }
        },
        "87a2790629aa4e20b0791c966a4add82": {
          "model_module": "@jupyter-widgets/controls",
          "model_name": "DescriptionStyleModel",
          "model_module_version": "1.5.0",
          "state": {
            "_model_module": "@jupyter-widgets/controls",
            "_model_module_version": "1.5.0",
            "_model_name": "DescriptionStyleModel",
            "_view_count": null,
            "_view_module": "@jupyter-widgets/base",
            "_view_module_version": "1.2.0",
            "_view_name": "StyleView",
            "description_width": ""
          }
        },
        "336613f1d0414df194e4f7e873e97454": {
          "model_module": "@jupyter-widgets/controls",
          "model_name": "HBoxModel",
          "model_module_version": "1.5.0",
          "state": {
            "_dom_classes": [],
            "_model_module": "@jupyter-widgets/controls",
            "_model_module_version": "1.5.0",
            "_model_name": "HBoxModel",
            "_view_count": null,
            "_view_module": "@jupyter-widgets/controls",
            "_view_module_version": "1.5.0",
            "_view_name": "HBoxView",
            "box_style": "",
            "children": [
              "IPY_MODEL_4969a36ae3d3427e90775f64dfb437c8",
              "IPY_MODEL_c907d290e6ef4f66932bb0e68d335bdd",
              "IPY_MODEL_95dc9d944ee74efbade693c97cec77ec"
            ],
            "layout": "IPY_MODEL_ac26af973f28459596cd738fb111b242"
          }
        },
        "4969a36ae3d3427e90775f64dfb437c8": {
          "model_module": "@jupyter-widgets/controls",
          "model_name": "HTMLModel",
          "model_module_version": "1.5.0",
          "state": {
            "_dom_classes": [],
            "_model_module": "@jupyter-widgets/controls",
            "_model_module_version": "1.5.0",
            "_model_name": "HTMLModel",
            "_view_count": null,
            "_view_module": "@jupyter-widgets/controls",
            "_view_module_version": "1.5.0",
            "_view_name": "HTMLView",
            "description": "",
            "description_tooltip": null,
            "layout": "IPY_MODEL_4a8bcdc47fab45fb97e21c85a0e9f366",
            "placeholder": "​",
            "style": "IPY_MODEL_ed8e6747b827428280592823f5624d3c",
            "value": "Export report to file: 100%"
          }
        },
        "c907d290e6ef4f66932bb0e68d335bdd": {
          "model_module": "@jupyter-widgets/controls",
          "model_name": "FloatProgressModel",
          "model_module_version": "1.5.0",
          "state": {
            "_dom_classes": [],
            "_model_module": "@jupyter-widgets/controls",
            "_model_module_version": "1.5.0",
            "_model_name": "FloatProgressModel",
            "_view_count": null,
            "_view_module": "@jupyter-widgets/controls",
            "_view_module_version": "1.5.0",
            "_view_name": "ProgressView",
            "bar_style": "success",
            "description": "",
            "description_tooltip": null,
            "layout": "IPY_MODEL_40c62238ff0d4075ab14dde7fe629dd3",
            "max": 1,
            "min": 0,
            "orientation": "horizontal",
            "style": "IPY_MODEL_5e97f9e763f24f2f9c859d695c73710d",
            "value": 1
          }
        },
        "95dc9d944ee74efbade693c97cec77ec": {
          "model_module": "@jupyter-widgets/controls",
          "model_name": "HTMLModel",
          "model_module_version": "1.5.0",
          "state": {
            "_dom_classes": [],
            "_model_module": "@jupyter-widgets/controls",
            "_model_module_version": "1.5.0",
            "_model_name": "HTMLModel",
            "_view_count": null,
            "_view_module": "@jupyter-widgets/controls",
            "_view_module_version": "1.5.0",
            "_view_name": "HTMLView",
            "description": "",
            "description_tooltip": null,
            "layout": "IPY_MODEL_f3781e4a932143a6b21070b9b6412e20",
            "placeholder": "​",
            "style": "IPY_MODEL_ed58a36a399a48199e80fb51cf5dd8f5",
            "value": " 1/1 [00:00&lt;00:00, 25.69it/s]"
          }
        },
        "ac26af973f28459596cd738fb111b242": {
          "model_module": "@jupyter-widgets/base",
          "model_name": "LayoutModel",
          "model_module_version": "1.2.0",
          "state": {
            "_model_module": "@jupyter-widgets/base",
            "_model_module_version": "1.2.0",
            "_model_name": "LayoutModel",
            "_view_count": null,
            "_view_module": "@jupyter-widgets/base",
            "_view_module_version": "1.2.0",
            "_view_name": "LayoutView",
            "align_content": null,
            "align_items": null,
            "align_self": null,
            "border": null,
            "bottom": null,
            "display": null,
            "flex": null,
            "flex_flow": null,
            "grid_area": null,
            "grid_auto_columns": null,
            "grid_auto_flow": null,
            "grid_auto_rows": null,
            "grid_column": null,
            "grid_gap": null,
            "grid_row": null,
            "grid_template_areas": null,
            "grid_template_columns": null,
            "grid_template_rows": null,
            "height": null,
            "justify_content": null,
            "justify_items": null,
            "left": null,
            "margin": null,
            "max_height": null,
            "max_width": null,
            "min_height": null,
            "min_width": null,
            "object_fit": null,
            "object_position": null,
            "order": null,
            "overflow": null,
            "overflow_x": null,
            "overflow_y": null,
            "padding": null,
            "right": null,
            "top": null,
            "visibility": null,
            "width": null
          }
        },
        "4a8bcdc47fab45fb97e21c85a0e9f366": {
          "model_module": "@jupyter-widgets/base",
          "model_name": "LayoutModel",
          "model_module_version": "1.2.0",
          "state": {
            "_model_module": "@jupyter-widgets/base",
            "_model_module_version": "1.2.0",
            "_model_name": "LayoutModel",
            "_view_count": null,
            "_view_module": "@jupyter-widgets/base",
            "_view_module_version": "1.2.0",
            "_view_name": "LayoutView",
            "align_content": null,
            "align_items": null,
            "align_self": null,
            "border": null,
            "bottom": null,
            "display": null,
            "flex": null,
            "flex_flow": null,
            "grid_area": null,
            "grid_auto_columns": null,
            "grid_auto_flow": null,
            "grid_auto_rows": null,
            "grid_column": null,
            "grid_gap": null,
            "grid_row": null,
            "grid_template_areas": null,
            "grid_template_columns": null,
            "grid_template_rows": null,
            "height": null,
            "justify_content": null,
            "justify_items": null,
            "left": null,
            "margin": null,
            "max_height": null,
            "max_width": null,
            "min_height": null,
            "min_width": null,
            "object_fit": null,
            "object_position": null,
            "order": null,
            "overflow": null,
            "overflow_x": null,
            "overflow_y": null,
            "padding": null,
            "right": null,
            "top": null,
            "visibility": null,
            "width": null
          }
        },
        "ed8e6747b827428280592823f5624d3c": {
          "model_module": "@jupyter-widgets/controls",
          "model_name": "DescriptionStyleModel",
          "model_module_version": "1.5.0",
          "state": {
            "_model_module": "@jupyter-widgets/controls",
            "_model_module_version": "1.5.0",
            "_model_name": "DescriptionStyleModel",
            "_view_count": null,
            "_view_module": "@jupyter-widgets/base",
            "_view_module_version": "1.2.0",
            "_view_name": "StyleView",
            "description_width": ""
          }
        },
        "40c62238ff0d4075ab14dde7fe629dd3": {
          "model_module": "@jupyter-widgets/base",
          "model_name": "LayoutModel",
          "model_module_version": "1.2.0",
          "state": {
            "_model_module": "@jupyter-widgets/base",
            "_model_module_version": "1.2.0",
            "_model_name": "LayoutModel",
            "_view_count": null,
            "_view_module": "@jupyter-widgets/base",
            "_view_module_version": "1.2.0",
            "_view_name": "LayoutView",
            "align_content": null,
            "align_items": null,
            "align_self": null,
            "border": null,
            "bottom": null,
            "display": null,
            "flex": null,
            "flex_flow": null,
            "grid_area": null,
            "grid_auto_columns": null,
            "grid_auto_flow": null,
            "grid_auto_rows": null,
            "grid_column": null,
            "grid_gap": null,
            "grid_row": null,
            "grid_template_areas": null,
            "grid_template_columns": null,
            "grid_template_rows": null,
            "height": null,
            "justify_content": null,
            "justify_items": null,
            "left": null,
            "margin": null,
            "max_height": null,
            "max_width": null,
            "min_height": null,
            "min_width": null,
            "object_fit": null,
            "object_position": null,
            "order": null,
            "overflow": null,
            "overflow_x": null,
            "overflow_y": null,
            "padding": null,
            "right": null,
            "top": null,
            "visibility": null,
            "width": null
          }
        },
        "5e97f9e763f24f2f9c859d695c73710d": {
          "model_module": "@jupyter-widgets/controls",
          "model_name": "ProgressStyleModel",
          "model_module_version": "1.5.0",
          "state": {
            "_model_module": "@jupyter-widgets/controls",
            "_model_module_version": "1.5.0",
            "_model_name": "ProgressStyleModel",
            "_view_count": null,
            "_view_module": "@jupyter-widgets/base",
            "_view_module_version": "1.2.0",
            "_view_name": "StyleView",
            "bar_color": null,
            "description_width": ""
          }
        },
        "f3781e4a932143a6b21070b9b6412e20": {
          "model_module": "@jupyter-widgets/base",
          "model_name": "LayoutModel",
          "model_module_version": "1.2.0",
          "state": {
            "_model_module": "@jupyter-widgets/base",
            "_model_module_version": "1.2.0",
            "_model_name": "LayoutModel",
            "_view_count": null,
            "_view_module": "@jupyter-widgets/base",
            "_view_module_version": "1.2.0",
            "_view_name": "LayoutView",
            "align_content": null,
            "align_items": null,
            "align_self": null,
            "border": null,
            "bottom": null,
            "display": null,
            "flex": null,
            "flex_flow": null,
            "grid_area": null,
            "grid_auto_columns": null,
            "grid_auto_flow": null,
            "grid_auto_rows": null,
            "grid_column": null,
            "grid_gap": null,
            "grid_row": null,
            "grid_template_areas": null,
            "grid_template_columns": null,
            "grid_template_rows": null,
            "height": null,
            "justify_content": null,
            "justify_items": null,
            "left": null,
            "margin": null,
            "max_height": null,
            "max_width": null,
            "min_height": null,
            "min_width": null,
            "object_fit": null,
            "object_position": null,
            "order": null,
            "overflow": null,
            "overflow_x": null,
            "overflow_y": null,
            "padding": null,
            "right": null,
            "top": null,
            "visibility": null,
            "width": null
          }
        },
        "ed58a36a399a48199e80fb51cf5dd8f5": {
          "model_module": "@jupyter-widgets/controls",
          "model_name": "DescriptionStyleModel",
          "model_module_version": "1.5.0",
          "state": {
            "_model_module": "@jupyter-widgets/controls",
            "_model_module_version": "1.5.0",
            "_model_name": "DescriptionStyleModel",
            "_view_count": null,
            "_view_module": "@jupyter-widgets/base",
            "_view_module_version": "1.2.0",
            "_view_name": "StyleView",
            "description_width": ""
          }
        }
      }
    }
  },
  "cells": [
    {
      "cell_type": "markdown",
      "metadata": {
        "id": "view-in-github",
        "colab_type": "text"
      },
      "source": [
        "<a href=\"https://colab.research.google.com/github/kirillkobychev/MLHSE/blob/homework/7%20regressors%20and%20model%20inference.ipynb\" target=\"_parent\"><img src=\"https://colab.research.google.com/assets/colab-badge.svg\" alt=\"Open In Colab\"/></a>"
      ]
    },
    {
      "cell_type": "markdown",
      "metadata": {
        "_uuid": "21c25e4f8bb31570029fd6b069131a5d00f84cf1",
        "id": "3-tVAicKr1C7"
      },
      "source": [
        "# Домашнее задание 7. Регрессия и инференс модели"
      ]
    },
    {
      "cell_type": "markdown",
      "source": [
        "Задание выполнил(а):\n",
        "\n",
        "    (Кобычев Кирилл)"
      ],
      "metadata": {
        "id": "Oai41PsZUzMj"
      }
    },
    {
      "cell_type": "markdown",
      "source": [
        "В этом домашнем задании вам будет необходимо:\n",
        "*  обучить модель регрессии для предсказания стоимости автомобилей;\n",
        "*  реализовать веб-сервис для применения построенной модели на новых данных\n",
        "\n",
        "> Оценка за домашнее задание = $min(\\text{ваш балл}, 11)$"
      ],
      "metadata": {
        "id": "lFR2EjC8UiYd"
      }
    },
    {
      "cell_type": "markdown",
      "source": [
        "## Общая информация"
      ],
      "metadata": {
        "id": "76TIJD1BWY06"
      }
    },
    {
      "cell_type": "markdown",
      "source": [
        "__Внимание!__  \n",
        "\n",
        "* Домашнее задание выполняется самостоятельно\n",
        "* Не допускается помощь в решении домашнего задания от однокурсников или третьих лиц. «Похожие» решения считаются плагиатом, и все задействованные студенты — в том числе и те, у кого списали, — не могут получить за него больше 0 баллов\n",
        "* Использование в решении домашнего задания генеративных моделей (ChatGPT и так далее) за рамками справочной и образовательной информации для генерации кода задания — считается плагиатом, и такое домашнее задание оценивается в 0 баллов"
      ],
      "metadata": {
        "id": "x1LJSPLZU6NY"
      }
    },
    {
      "cell_type": "markdown",
      "source": [
        "**Примечание**\n",
        "\n",
        "В каждой части оцениваются как код, **так и ответы на вопросы.** Вопросы подсвечены синим цветом.\n",
        "\n",
        "Если нет одного и/или другого, то часть баллов за соответствующее задание снимается."
      ],
      "metadata": {
        "id": "RBxaROjhnExd"
      }
    },
    {
      "cell_type": "markdown",
      "source": [
        "## Импорт библиотек, установка констант"
      ],
      "metadata": {
        "id": "31K05QRBU121"
      }
    },
    {
      "cell_type": "code",
      "source": [
        "%%capture\n",
        "!pip install ydata-profiling"
      ],
      "metadata": {
        "id": "pQiUi0TIqFI7"
      },
      "execution_count": 40,
      "outputs": []
    },
    {
      "cell_type": "code",
      "source": [
        "%%capture\n",
        "import pandas as pd\n",
        "import numpy as np\n",
        "import matplotlib.pyplot as plt\n",
        "import random\n",
        "import seaborn as sns\n",
        "\n",
        "from ydata_profiling import ProfileReport"
      ],
      "metadata": {
        "id": "bKXD33FOsnGd"
      },
      "execution_count": 41,
      "outputs": []
    },
    {
      "cell_type": "code",
      "source": [
        "CARS_TRAIN = 'https://github.com/evgpat/datasets/raw/refs/heads/main/cars_train.csv'\n",
        "CARS_TEST = 'https://github.com/evgpat/datasets/raw/refs/heads/main/cars_test.csv'"
      ],
      "metadata": {
        "id": "28s1o33KVbHu"
      },
      "execution_count": 2,
      "outputs": []
    },
    {
      "cell_type": "code",
      "source": [
        "RANDOM_STATE = 42"
      ],
      "metadata": {
        "id": "1JhOVaxbUyq7"
      },
      "execution_count": 3,
      "outputs": []
    },
    {
      "cell_type": "code",
      "source": [
        "random.seed(RANDOM_STATE)\n",
        "np.random.seed(RANDOM_STATE)"
      ],
      "metadata": {
        "id": "s8y3nEFYUyTB"
      },
      "execution_count": 4,
      "outputs": []
    },
    {
      "cell_type": "markdown",
      "source": [
        "## Задание 0"
      ],
      "metadata": {
        "id": "GAzbEw1ctU4f"
      }
    },
    {
      "cell_type": "markdown",
      "source": [
        "Для чего фиксируем сиды в ноутбуке?"
      ],
      "metadata": {
        "id": "Qz6PeapdUumS"
      }
    },
    {
      "cell_type": "markdown",
      "source": [
        "random state переменная которая фиксирует начальную точку, seed фиксит точку старта для random и np.random, и любой наш random будет начинаться с 42"
      ],
      "metadata": {
        "id": "YQXoB3wy49zK"
      }
    },
    {
      "cell_type": "markdown",
      "source": [
        "## Часть 1 | EDA"
      ],
      "metadata": {
        "id": "bbx1WgQCU8Tv"
      }
    },
    {
      "cell_type": "markdown",
      "source": [
        "\n",
        "\n",
        "\n",
        "Первая часть состоит из классических шагов EDA:\n",
        "\n",
        "- Базовый EDA и обработка признаков (1.7 балла)\n",
        "- Визуализации признаков и их анализ (1.6 балл)\n",
        "\n",
        "Всего можно набрать 3.3 основных балла и 0.25 бонусных.\n",
        "\n",
        "В следующих частях, вы увидите бонусные задания. Бонусные задания выделены как **Дополнительное задание/Бонус**. Вы можете выполнять их, чтобы в случае ошибок в основных задачах всё равно набрать за работу максимум. Кроме того, дополнительные задания позволяют вам углубить знания.\n",
        "\n",
        "Призываем активно использовать их!"
      ],
      "metadata": {
        "id": "ykzSVgN7q-xZ"
      }
    },
    {
      "cell_type": "markdown",
      "source": [
        "## **Простейший EDA и обработка признаков (1.7 балла)**"
      ],
      "metadata": {
        "id": "e-4bM9CKAtCj"
      }
    },
    {
      "cell_type": "code",
      "execution_count": 5,
      "metadata": {
        "id": "FniH6eCGFSi_",
        "colab": {
          "base_uri": "https://localhost:8080/"
        },
        "outputId": "78e92255-f294-40d3-a32f-966a66c1829f"
      },
      "outputs": [
        {
          "output_type": "stream",
          "name": "stdout",
          "text": [
            "Train data shape: (6999, 13)\n",
            "Test data shape:  (1000, 13)\n"
          ]
        }
      ],
      "source": [
        "df_train = pd.read_csv(CARS_TRAIN)\n",
        "df_test = pd.read_csv(CARS_TEST)\n",
        "\n",
        "print(\"Train data shape:\", df_train.shape)\n",
        "print(\"Test data shape: \", df_test.shape)"
      ]
    },
    {
      "cell_type": "markdown",
      "source": [
        "### **Задание 1.(0.4 балла)**\n",
        "Выполните операции, направленные на базовое исследование данных:\n",
        "\n",
        "- [ ] Посмотрите, есть ли в датасете пропуски и дубликаты. Запишите/выведите названия колонок, для которых есть пропущенные значения (0.1 балла)\n",
        "- [ ] Посмотрите, есть ли в данных явные дубликаты (0.05 балла)\n",
        "- [ ] Постройте дашборд в одну строку, используя [ydata-profilling](https://github.com/ydataai/ydata-profiling) (0.15 балла)\n",
        "- [ ] Опишите базовые выводы (какие — выберите сами), используя дашборд (0.2 балла)"
      ],
      "metadata": {
        "id": "4MPkTqw95P6p"
      }
    },
    {
      "cell_type": "code",
      "source": [
        "# your code here\n",
        "search_nan_train = df_train.isnull().sum()\n",
        "search_nan_test = df_test.isnull().sum()\n",
        "search_duplicate_train = df_train.duplicated().sum()\n",
        "search_duplicate_test = df_test.duplicated().sum()\n",
        "\n",
        "print(f\"Train Null:\\n{search_nan_train[search_nan_train>0]}\")\n",
        "print(f\"\\nTest Null:\\n{search_nan_test[search_nan_test>0]}\")\n",
        "print(f\"\\nTrain duplicates:\\n{search_duplicate_train}\")\n",
        "print(f\"\\nTest duplicates:\\n{search_duplicate_test}\")\n",
        "\n",
        "profile = ProfileReport(df_train, title=\"Profiling Report\")\n",
        "#profile.to_widgets() не работает\n",
        "profile.to_file(\"cars_train_eda_report.html\")"
      ],
      "metadata": {
        "id": "Zesb2SG5xf_q",
        "colab": {
          "base_uri": "https://localhost:8080/",
          "height": 596,
          "referenced_widgets": [
            "e50846b39af64d0b8c875cd448bfdd34",
            "6a06d5db56fb45f4b7b6dbb3a7cae080",
            "a1bb803a9c6b438f8e32ef18facf0660",
            "bf1ebda2e2764f55b6a1f97677459d22",
            "b15597319f4c4115bf887bdf0a72f297",
            "79e0dbe1a198406799b83811d7b138c0",
            "fc810b3dd2914970b570a37c30b8ef00",
            "67a865f91c914aabb6dea7aaeaba032c",
            "ff7541e4ae1b4e43bf3a919996edf216",
            "8c7cfeaff29e4fbd857d42781bc5dc3e",
            "0c22b2a5d0a5464d8c06fd18408c1081",
            "97793782abc74178946d296249d0a415",
            "7a859760104849fcb65a43f27046ef73",
            "cc5948868dee44db8223af4b053e4d36",
            "5975e5ce20b443248b29e89bff38609d",
            "cc39de5c11ca48349345eac61fbe1a58",
            "a7c2ae319897456780aed3604a8a212c",
            "def3310a45c74c48b54acd98ec4bc834",
            "9c648f3e99a74d7886469f52e71d7cf6",
            "3277dbdbef8240b1817e8db5399aebfd",
            "d5864c1f4d6e465d85951a533fb75b47",
            "8b276837d6054143868ec52ca9f2e9d8",
            "48305857956146bca64a4e3c843fe24e",
            "8644d422e51a49c487fa4e01f98022be",
            "797bf2e9fc9845278bc377296ad8e9de",
            "ac202c2dc80440bab1d0187ba2407d2e",
            "79346757e6f94e74b7eef1cc1efd64ce",
            "e99df58035cb423a9391f6ccae7f2bd6",
            "c4ca6c42b4824f73aa43638a0c0f2226",
            "4f67b9d4ee294452a33b59ea54102e80",
            "5056e071bab34d94b8e815b3fad85069",
            "7172d5ba29ab483d918fe99e9af19cd0",
            "87a2790629aa4e20b0791c966a4add82",
            "336613f1d0414df194e4f7e873e97454",
            "4969a36ae3d3427e90775f64dfb437c8",
            "c907d290e6ef4f66932bb0e68d335bdd",
            "95dc9d944ee74efbade693c97cec77ec",
            "ac26af973f28459596cd738fb111b242",
            "4a8bcdc47fab45fb97e21c85a0e9f366",
            "ed8e6747b827428280592823f5624d3c",
            "40c62238ff0d4075ab14dde7fe629dd3",
            "5e97f9e763f24f2f9c859d695c73710d",
            "f3781e4a932143a6b21070b9b6412e20",
            "ed58a36a399a48199e80fb51cf5dd8f5"
          ]
        },
        "outputId": "c37df1f3-af0b-467b-c093-e56828941f49"
      },
      "execution_count": 46,
      "outputs": [
        {
          "output_type": "stream",
          "name": "stdout",
          "text": [
            "Train Null:\n",
            "mileage      202\n",
            "engine       202\n",
            "max_power    196\n",
            "torque       203\n",
            "seats        202\n",
            "dtype: int64\n",
            "\n",
            "Test Null:\n",
            "mileage      19\n",
            "engine       19\n",
            "max_power    19\n",
            "torque       19\n",
            "seats        19\n",
            "dtype: int64\n",
            "\n",
            "Train duplicates:\n",
            "985\n",
            "\n",
            "Test duplicates:\n",
            "62\n"
          ]
        },
        {
          "output_type": "display_data",
          "data": {
            "text/plain": [
              "Summarize dataset:   0%|          | 0/5 [00:00<?, ?it/s]"
            ],
            "application/vnd.jupyter.widget-view+json": {
              "version_major": 2,
              "version_minor": 0,
              "model_id": "e50846b39af64d0b8c875cd448bfdd34"
            }
          },
          "metadata": {}
        },
        {
          "output_type": "stream",
          "name": "stderr",
          "text": [
            "\n",
            "  0%|          | 0/13 [00:00<?, ?it/s]\u001b[A\n",
            "  8%|▊         | 1/13 [00:00<00:01,  9.25it/s]\u001b[A\n",
            " 54%|█████▍    | 7/13 [00:00<00:00, 35.01it/s]\u001b[A\n",
            "100%|██████████| 13/13 [00:00<00:00, 27.64it/s]\n"
          ]
        },
        {
          "output_type": "display_data",
          "data": {
            "text/plain": [
              "Generate report structure:   0%|          | 0/1 [00:00<?, ?it/s]"
            ],
            "application/vnd.jupyter.widget-view+json": {
              "version_major": 2,
              "version_minor": 0,
              "model_id": "97793782abc74178946d296249d0a415"
            }
          },
          "metadata": {}
        },
        {
          "output_type": "display_data",
          "data": {
            "text/plain": [
              "Render HTML:   0%|          | 0/1 [00:00<?, ?it/s]"
            ],
            "application/vnd.jupyter.widget-view+json": {
              "version_major": 2,
              "version_minor": 0,
              "model_id": "48305857956146bca64a4e3c843fe24e"
            }
          },
          "metadata": {}
        },
        {
          "output_type": "display_data",
          "data": {
            "text/plain": [
              "Export report to file:   0%|          | 0/1 [00:00<?, ?it/s]"
            ],
            "application/vnd.jupyter.widget-view+json": {
              "version_major": 2,
              "version_minor": 0,
              "model_id": "336613f1d0414df194e4f7e873e97454"
            }
          },
          "metadata": {}
        }
      ]
    },
    {
      "cell_type": "markdown",
      "source": [
        "### **Задание 2 (0.2 балла)**\n",
        "Проанализируйте статистики датасета.\n",
        "\n",
        "**Ваша задача:**\n",
        "- [ ] Посчитайте основные статистики по числовым столбцам для трейна и теста\n",
        "- [ ] Посчитайте основные статистики по категориальным столбцам для трейна и теста\n",
        "- [ ] Сравните среднее и медиану внутри `train`, внутри `test` и между собой. О чём могут говорить результаты?\n",
        "\n",
        "**Подсказка:**\n",
        "\n",
        "Используте ``.describe()`` с нужным(и) аргументом(-ами)."
      ],
      "metadata": {
        "id": "Vcd15tY76_NY"
      }
    },
    {
      "cell_type": "code",
      "source": [
        "# your code here\n",
        "statistics_train = df_train.select_dtypes(include=['float64', 'int64']).describe()\n",
        "statistics_test = df_test.select_dtypes(include=['float64', 'int64']).describe()\n",
        "statistics_obj_train = df_train.select_dtypes(include=['object']).describe()\n",
        "statistics_obj_test = df_test.select_dtypes(include=['object']).describe()\n",
        "\n",
        "print(f\"Train:\\n{statistics_train}\")\n",
        "print(f\"\\nTest:\\n{statistics_test}\")\n",
        "print(f\"\\nTrain object:\\n{statistics_obj_train}\")\n",
        "print(f\"\\nTest object:\\n{statistics_obj_test}\")\n",
        "\n"
      ],
      "metadata": {
        "id": "mAtERDmnxwDo",
        "colab": {
          "base_uri": "https://localhost:8080/"
        },
        "outputId": "97c8a9fc-f0f3-4d0c-86f5-9c542b4bd2a1"
      },
      "execution_count": 64,
      "outputs": [
        {
          "output_type": "stream",
          "name": "stdout",
          "text": [
            "Train:\n",
            "              year  selling_price     km_driven        seats\n",
            "count  6999.000000   6.999000e+03  6.999000e+03  6797.000000\n",
            "mean   2013.818403   6.395152e+05  6.958462e+04     5.419008\n",
            "std       4.053095   8.089419e+05  5.772400e+04     0.965767\n",
            "min    1983.000000   2.999900e+04  1.000000e+00     2.000000\n",
            "25%    2011.000000   2.549990e+05  3.500000e+04     5.000000\n",
            "50%    2015.000000   4.500000e+05  6.000000e+04     5.000000\n",
            "75%    2017.000000   6.750000e+05  9.700000e+04     5.000000\n",
            "max    2020.000000   1.000000e+07  2.360457e+06    14.000000\n",
            "\n",
            "Test:\n",
            "              year  selling_price      km_driven       seats\n",
            "count  1000.000000   1.000000e+03    1000.000000  981.000000\n",
            "mean   2013.681000   6.179010e+05   71393.341000    5.410805\n",
            "std       4.012149   7.585539e+05   48486.218662    0.919985\n",
            "min    1995.000000   3.100000e+04    1303.000000    4.000000\n",
            "25%    2011.000000   2.500000e+05   37000.000000    5.000000\n",
            "50%    2014.000000   4.349990e+05   61500.000000    5.000000\n",
            "75%    2017.000000   6.700000e+05  100000.000000    5.000000\n",
            "max    2020.000000   6.000000e+06  375000.000000    9.000000\n",
            "\n",
            "Train object:\n",
            "                          name    fuel seller_type transmission        owner  \\\n",
            "count                     6999    6999        6999         6999         6999   \n",
            "unique                    1924       4           3            2            5   \n",
            "top     Maruti Swift Dzire VDI  Diesel  Individual       Manual  First Owner   \n",
            "freq                       116    3793        5826         6095         4587   \n",
            "\n",
            "          mileage   engine max_power          torque  \n",
            "count        6797     6797      6803            6796  \n",
            "unique        386      120       316             419  \n",
            "top     18.9 kmpl  1248 CC    74 bhp  190Nm@ 2000rpm  \n",
            "freq          197      885       330             468  \n",
            "\n",
            "Test object:\n",
            "                       name    fuel seller_type transmission        owner  \\\n",
            "count                  1000    1000        1000         1000         1000   \n",
            "unique                  621       4           3            2            5   \n",
            "top     Maruti Alto 800 LXI  Diesel  Individual       Manual  First Owner   \n",
            "freq                     15     534         837          877          623   \n",
            "\n",
            "          mileage   engine max_power          torque  \n",
            "count         981      981       981             981  \n",
            "unique        237       88       182             226  \n",
            "top     18.6 kmpl  1248 CC    74 bhp  200Nm@ 1750rpm  \n",
            "freq           23      116        43              57  \n"
          ]
        }
      ]
    },
    {
      "cell_type": "markdown",
      "source": [
        "### **Задание 3 (0.2 балла)**\n",
        "\n",
        "- [ ] Посмотрите, есть ли в трейне объекты с одинаковым признаковым описанием (целевую переменную следует исключить). Если есть, то сколько? (0.05 балла)\n",
        "- [ ] Отобразите такие объекты (0.05 балла)\n",
        "- [ ] Удалите повторяющиеся строки. Если при одинаковом признаковом описании цены на автомобили отличаются, то оставьте первую строку по этому автомобилю (0.05 балла)\n",
        "- [ ]  Обновите индексы строк таким образом, чтобы они шли от 0 без пропусков (0.05 балла)"
      ],
      "metadata": {
        "id": "1X5_FzDOhjuh"
      }
    },
    {
      "cell_type": "code",
      "source": [
        "# your code here"
      ],
      "metadata": {
        "id": "67KXN7Fj0Chz"
      },
      "execution_count": null,
      "outputs": []
    },
    {
      "cell_type": "code",
      "source": [
        "assert df_train.shape == (5840, 13)"
      ],
      "metadata": {
        "id": "vF0yfzMOkEn8"
      },
      "execution_count": null,
      "outputs": []
    },
    {
      "cell_type": "markdown",
      "source": [
        "### **Задание 4 (0.3 балла)**\n",
        "\n",
        "Вы могли заметить, что с признаками ``mileage, engine, max_power и torque`` всё не очень хорошо. Они распознаются как строки (можно убедиться в этом, вызвав `data.dtypes`). Однако эти переменные не являются категориальными — они — числа. Соответственно, нужно привести их к числовому виду.\n",
        "\n",
        "**Задача :**\n",
        "* [ ] Уберите единицы измерения для признаков ``mileage, engine, max_power``.\n",
        "* [ ] Приведите тип данных к ``float``.\n",
        "* [ ] Предобработайте признак `torque` — разделите его на два: собственно `torque` и `max_torque_rpm`. Учтите единицы измерения\n",
        "\n",
        "\n",
        "**Важно**\n",
        "- Все действия нужно производить над обоими датасетами — `train` и `test`."
      ],
      "metadata": {
        "id": "CzYgx2wJzLxN"
      }
    },
    {
      "cell_type": "code",
      "source": [
        "# your code here"
      ],
      "metadata": {
        "id": "njamVk3A1dVM"
      },
      "execution_count": null,
      "outputs": []
    },
    {
      "cell_type": "markdown",
      "source": [
        "### **Задание 5 (0.3 балла)**\n",
        "\n",
        "На первом шаге мы обнаружили пропуски. Давайте избавимся от них.\n",
        "\n",
        "**Задание:**\n",
        "- [ ] Заполните пропуски в столбцах медианами. Убедитесь, что после заполнения пропусков не осталось.\n",
        "- [ ] Почему стоит применять именно медиану. Могли ли мы применить среднее? Обоснуйте свое рассуждение.\n",
        "- [ ] Как правильно считать медиану для заполнения? Выберите верное утверждение:\n",
        " - По тестовым свою, по тренировочным — свою\n",
        " - По тренировочным данным для `train` и `test`\n",
        "\n",
        "\n",
        "\n",
        "\n"
      ],
      "metadata": {
        "id": "nyEtp7jsRNms"
      }
    },
    {
      "cell_type": "code",
      "source": [
        "# your code here"
      ],
      "metadata": {
        "id": "M9H15wvXRYQF"
      },
      "execution_count": null,
      "outputs": []
    },
    {
      "cell_type": "markdown",
      "source": [
        "### **Задание 6 (0.2 балла)**\n",
        "\n",
        "Теперь, когда не осталось пропусков, давайте преобразуем столбцы к более подходящим типам. А именно столбцы ``engnine`` и ``seats`` к приведем к `int`.\n",
        "\n",
        "- [ ] Осуществите приведение столбцов к необходимому типу.\n",
        "- [ ] Ответье на вопрос — почему (хоть мы этого и не делаем) ``seats``, возможно рассмотреть как категориальную переменную?"
      ],
      "metadata": {
        "id": "RuKxfXCaXeHr"
      }
    },
    {
      "cell_type": "code",
      "source": [
        "# your code here"
      ],
      "metadata": {
        "id": "kYKWyjsLYQuz"
      },
      "execution_count": null,
      "outputs": []
    },
    {
      "cell_type": "markdown",
      "source": [
        "`Your answer here`"
      ],
      "metadata": {
        "id": "6HLBGRdU9Jwe"
      }
    },
    {
      "cell_type": "markdown",
      "source": [
        "### **Задание 7 (0.1 балла)**\n",
        "\n",
        "Снова вызовите метод describe и проанализируйте статистики.\n",
        "\n",
        "**Ответье на вопрос:**\n",
        "- [ ] Есть ли основания предполагать, что заполнение пропусков свдинуло наши распределения? Могло ли это вообще возникнуть?"
      ],
      "metadata": {
        "id": "L6GhjUI79wD-"
      }
    },
    {
      "cell_type": "code",
      "source": [],
      "metadata": {
        "id": "l9a2AUXHVgBu"
      },
      "execution_count": null,
      "outputs": []
    },
    {
      "cell_type": "markdown",
      "source": [
        "`Your answer here`"
      ],
      "metadata": {
        "id": "XX8XMLs_Vgfv"
      }
    },
    {
      "cell_type": "markdown",
      "source": [
        "## **Визуализации и корреляция (1.6 балла + 0.25)**"
      ],
      "metadata": {
        "id": "OmV784QWZOpO"
      }
    },
    {
      "cell_type": "markdown",
      "source": [
        "Визуализация данных — важный шаг в работе. Визуализировать данные необходимо, например, чтобы:\n",
        "\n",
        "- Оценить распределения признаков самих по себе (это может натоклнуть вас на мысли о модели, которую можно использовать)\n",
        "- Сравнить распределения на `train` и `test` — чтобы проверить, насколько информация, на которой вы будете обучаться согласуется с той, на которой модель должна работать\n",
        "- Оценить есть ли явная связь признаков с целевой переменной\n",
        "\n",
        "**Важно:**\n",
        "\n",
        "Если распределения на `train` и `test` не совпадают, это не значит, что нужно перемешивать данные! Более корректно актуализировать задачу и уточнить, а не устарели ли данные `train`. Также полезным может быть собрать новую тестовую выборку, смешав те, что имеются сейчас.\n",
        "\n",
        "**Если вы будете подгонять распределения, то можете встретиться с переобучением!**"
      ],
      "metadata": {
        "id": "6p2L60ngZueT"
      }
    },
    {
      "cell_type": "markdown",
      "source": [
        "### **Задание 8 (0.5 балла)**\n",
        "\n",
        "Шаг 1.\n",
        "- [ ] Воспользуйтесь `pairplot` из библиотеки `seabron`, чтобы визуализировать попарные распределения числовых признаков для `train`\n",
        "- [ ] По полученному графику ответьте на вопросы:\n",
        " - Можно ли предположить на основе распределений связь признаков с целевой переменной?\n",
        " - Можно ли предположить на основе распределений выдвинуть гипотезу о корреляциях признаков?\n",
        "\n",
        "Шаг 2.\n",
        "\n",
        "- [ ] Постройте pairplot по тестовым данным\n",
        "- [ ] Ответьте на вопрос \"Похожими ли оказались совокупности при разделении на трейн и тест?\""
      ],
      "metadata": {
        "id": "L3-vA6Tq-MHX"
      }
    },
    {
      "cell_type": "code",
      "source": [
        "# your code here"
      ],
      "metadata": {
        "id": "0car89hFaby1"
      },
      "execution_count": null,
      "outputs": []
    },
    {
      "cell_type": "markdown",
      "source": [
        "### **Задание 9 (0.5 балла)**\n",
        "\n",
        "И так, вы выдвинули гипотезы о наличии связи. Теперь давайте оценим эту связь в числах.\n",
        "\n",
        "**Задание:**\n",
        "- [ ] Получите значения коэффициента корреляции Пирсона для тренировочного набора данных при помощи `pd.corr()`\n",
        "- [ ] По полученным корреляциям постройте тепловую карту (`heatmap` из бибилотеки seaborn)"
      ],
      "metadata": {
        "id": "EP9doUIy-T72"
      }
    },
    {
      "cell_type": "code",
      "source": [
        "# your code here"
      ],
      "metadata": {
        "id": "E99LVAN2fMVH"
      },
      "execution_count": null,
      "outputs": []
    },
    {
      "cell_type": "markdown",
      "source": [
        "- [ ] Ответьте на вопросы:\n",
        " - Какие 2 признака наименее скоррелированы между собой?\n",
        " - Между какими наблюдается довольно сильная положительная линейная зависимость?\n",
        " - Правильно ли, опираясь на данные, утверждать, что чем меньше год, тем, скорее всего, больше километров проехала машина к дате продажи?"
      ],
      "metadata": {
        "id": "dSYmSEK6-aL6"
      }
    },
    {
      "cell_type": "markdown",
      "source": [
        "`Your answer here`"
      ],
      "metadata": {
        "id": "U1HcXJHK-c9L"
      }
    },
    {
      "cell_type": "markdown",
      "source": [
        "### **Задание 10 (0.6 балла)**\n",
        "\n",
        "По умолчанию `pd.corr` возвращает корреляцию Пирсона, говорящую о линейной взаимосвязи. Но зависимости существуют не только линейные! В этой задаче, попробуйте измерить другие способы вычисления корреляций.\n",
        "\n",
        "- [ ] Реализуйте корреляцию Спирмена/Кендала (на выбор) без использования библиотек (можно пользоваться только `numpy`). Сравните результаты вычисления с библиотечной реализацией\n",
        "- [ ]\n",
        "\n",
        "Постройте матрицу корреляции [phik](https://pypi.org/project/phik/)\n",
        "- [ ] Проинтерпретируйте результаты\n"
      ],
      "metadata": {
        "id": "zdEQkZU8-ez8"
      }
    },
    {
      "cell_type": "code",
      "source": [
        "# your code here"
      ],
      "metadata": {
        "id": "ouc930we_zIV"
      },
      "execution_count": null,
      "outputs": []
    },
    {
      "cell_type": "markdown",
      "source": [
        "`Your answer here`"
      ],
      "metadata": {
        "id": "rwCY2RHH_0Cv"
      }
    },
    {
      "cell_type": "markdown",
      "source": [
        "### **Дополнительные визуализации (бонус 0.2 балла)**\n",
        "\n",
        "Если вам кажется, что мы не попросили вас нарисовать какие-то очень важные зависимости, нарисуйте их и поясните."
      ],
      "metadata": {
        "id": "ru1In410pieq"
      }
    },
    {
      "cell_type": "code",
      "source": [
        "# your code here"
      ],
      "metadata": {
        "id": "HwlwJhDIp_2L"
      },
      "execution_count": null,
      "outputs": []
    },
    {
      "cell_type": "markdown",
      "source": [
        "# **Часть 2 (1.7 балла) | Модель только на вещественных признаках**\n",
        "\n",
        "В этой части вам предстоит обучить модель только на вещественных признаках. Почему только на них?\n",
        "\n",
        "Чем больше признаковое пространство — чем сложнее модель. А чем модель проще — тем лучше для скорости работы и интерпретации признаков.\n",
        "\n",
        "За задания этой части вы можете набрать 1.7 основных и 0.15 бонусных балла;"
      ],
      "metadata": {
        "id": "uS2CQ1LzrP_U"
      }
    },
    {
      "cell_type": "markdown",
      "source": [
        "### **Задание 11 (0.05 балла)**\n",
        "\n",
        "Разбейте данные на тренировочный и тестовый наборы. Перед разбиением создайте копию датафрейма, который будет хранить только вещественные признаки и используйте его (то есть категориальные столбцы (все, кроме seats) необходимо удалить).\n",
        "\n",
        "В переменные y_train и y_test запишите значения целевых переменных."
      ],
      "metadata": {
        "id": "s0PTwk6TAGqI"
      }
    },
    {
      "cell_type": "code",
      "source": [
        "y_train = # your code here\n",
        "X_train = # your code here"
      ],
      "metadata": {
        "id": "cGxjJSSUg2na"
      },
      "execution_count": null,
      "outputs": []
    },
    {
      "cell_type": "code",
      "source": [
        "assert X_train.shape == (5840, 6)"
      ],
      "metadata": {
        "id": "fyMyARKem5wl"
      },
      "execution_count": null,
      "outputs": []
    },
    {
      "cell_type": "code",
      "source": [
        "y_test = # your code here\n",
        "X_test = # your code here"
      ],
      "metadata": {
        "id": "xKRmqiJ5rbSx"
      },
      "execution_count": null,
      "outputs": []
    },
    {
      "cell_type": "code",
      "source": [
        "assert X_test.shape == (1000, 6)"
      ],
      "metadata": {
        "id": "-JepTZ36y-h-"
      },
      "execution_count": null,
      "outputs": []
    },
    {
      "cell_type": "markdown",
      "source": [
        "### **Задание 12. (0.2 балла)**\n",
        "\n",
        "Построим нашу первую модель!\n",
        "- [ ] Обучите классическую линейную регрессию с дефолтными параметрами. Посчтитайте $R^2$ и $MSE$ для трейна и для теста.\n",
        "- [ ] Сделайте выводы по значениям метрик качества.\n",
        "\n",
        "**Примечание:**\n",
        "\n",
        "Здесь и далее $R^2$ и $MSE$ для трейна и для теста выводите везде, где требуется обучать модели, даже если в явном виде этого не просят. Иначе непонятно, как понять, насколько успешны наши эксперименты."
      ],
      "metadata": {
        "id": "_kvtF4gXhwoI"
      }
    },
    {
      "cell_type": "code",
      "source": [
        "from sklearn.linear_model import LinearRegression\n",
        "from sklearn.metrics import r2_score, mean_squared_error as MSE\n",
        "\n",
        "# your code here"
      ],
      "metadata": {
        "id": "hVYXaeTgrb3d"
      },
      "execution_count": null,
      "outputs": []
    },
    {
      "cell_type": "markdown",
      "source": [
        "### **Задание 13 (0.15 балла)**\n",
        "\n",
        "- [ ] Реализуйте $R^2$ руками. Приведите формулу $R^2$ и объясните каждую компоненту метрики"
      ],
      "metadata": {
        "id": "jr6jGJ1KyalZ"
      }
    },
    {
      "cell_type": "code",
      "source": [],
      "metadata": {
        "id": "m_se4OoFyirQ"
      },
      "execution_count": null,
      "outputs": []
    },
    {
      "cell_type": "markdown",
      "source": [
        "`Your answer here`"
      ],
      "metadata": {
        "id": "0Q0wtrbiA78t"
      }
    },
    {
      "cell_type": "markdown",
      "source": [
        "### **Бонус (0.15 балла)**\n",
        "\n",
        "- [ ] Реализуйте [$\\text{adjusted}-R^2$](https://en.wikipedia.org/wiki/Coefficient_of_determination).\n",
        "- [ ] Объясните, когда применяется $\\text{adjusted}-R^2$?"
      ],
      "metadata": {
        "id": "U3pD3UfQAkXu"
      }
    },
    {
      "cell_type": "code",
      "source": [
        "# your code here"
      ],
      "metadata": {
        "id": "NdyvxpwRA6te"
      },
      "execution_count": null,
      "outputs": []
    },
    {
      "cell_type": "markdown",
      "source": [
        "`Your answer here`"
      ],
      "metadata": {
        "id": "-GI8Td6iA-Y7"
      }
    },
    {
      "cell_type": "markdown",
      "source": [
        "### **Задание 14 (0.05 балла)**\n",
        "\n",
        "Всегда есть место совершенству. Поэтому давайте попробуем улучшить модель. При помощи стандартизации признаков.\n",
        "\n",
        "- [ ] Стандартизируйте значения в тренировочных и тестовых данных. Стандартизатор **обучайте только на `train`**."
      ],
      "metadata": {
        "id": "HpQ8EG2Uk_Dn"
      }
    },
    {
      "cell_type": "code",
      "source": [
        "from sklearn.preprocessing import StandardScaler\n",
        "\n",
        "# your code here"
      ],
      "metadata": {
        "id": "o6FB80C2rciK"
      },
      "execution_count": null,
      "outputs": []
    },
    {
      "cell_type": "markdown",
      "source": [
        "### **Задание 15 (0.1 балла)**\n",
        "\n",
        "Хотя стандартизация не помогла сильно прибавить в качестве она открыла возможность интерпретировать важность признаков в модели. Правило интерпретации такое:\n",
        "\n",
        "Чем больше коэффициент $\\beta_i$ по модулю, тем важнее признак.\n",
        "\n",
        "**Ответьте на вопрос:**\n",
        "\n",
        "- [ ] Какой признак оказался наиболее информативным в предсказании цены?"
      ],
      "metadata": {
        "id": "oQZi8LYVmiPv"
      }
    },
    {
      "cell_type": "code",
      "source": [
        "# your code here"
      ],
      "metadata": {
        "id": "u9onBNrhmt1r"
      },
      "execution_count": null,
      "outputs": []
    },
    {
      "cell_type": "markdown",
      "source": [
        "### **Задание 16 (0.25 балла)**\n",
        "\n",
        "Попробуем улучшить нашу модель с помощью применения регуляризации. Для этого воспльзуемся `Lasso` регрессией.  Кроме того, попробуйте использовать её теоретическое свойство отбора признаков, за счет зануления незначимых коэффициентов.\n",
        "\n",
        "**Задание:**\n",
        "\n",
        "- [ ] Обучите Lasso регрессию на тренировочном наборе данных с нормализованными признаками. Оцените её качество\n",
        "- [ ] Проверьте, занулила ли L1-регуляризация с параметрами по умолчанию какие-нибудь веса? Предположите почему."
      ],
      "metadata": {
        "id": "My5nSSASntjA"
      }
    },
    {
      "cell_type": "code",
      "source": [
        "from sklearn.linear_model import Lasso\n",
        "\n",
        "# your code here"
      ],
      "metadata": {
        "id": "yhR5eajPn0kl"
      },
      "execution_count": null,
      "outputs": []
    },
    {
      "cell_type": "markdown",
      "source": [
        "### **Задание 17. Финальный рывок (0.4 балла)**\n",
        "\n",
        "До этого мы с вами использовали `train` для обучения и `test` для прогнозирования. Но у нас есть ещё одна задача — подобрать оптимальные параметры модели. Для этого используем кросс-валидацию, описанную на семинарах.\n",
        "\n",
        "Кроме того, выжмем максимум из модификаций регрессии. Построим `ElasticNet`. И сделаем всё по порядку.\n",
        "\n",
        "**Ваша задача 1:**\n",
        "\n",
        "- [ ] Перебором по сетке (c 10-ю фолдами) подберите оптимальные параметры для Lasso-регрессии. Вам пригодится класс [GridSearchCV](https://scikit-learn.org/stable/modules/generated/sklearn.model_selection.GridSearchCV.html).\n",
        "- [ ] Ответьте на вопросы:\n",
        " - Сколько грид-сёрчу пришлось обучать моделей?\n",
        " - Что значит каждый параметр `param_grid`, который вы заполняли для `GridSearch`? Опишите каждый\n",
        " - Какой коэффициент регуляризации у лучшей из перебранных моделей? Занулились ли какие-нибудь из весов при такой регуляризации?"
      ],
      "metadata": {
        "id": "cIbnMp-So7CP"
      }
    },
    {
      "cell_type": "code",
      "source": [
        "# your code here"
      ],
      "metadata": {
        "id": "joyYE2Q5shu5"
      },
      "execution_count": null,
      "outputs": []
    },
    {
      "cell_type": "markdown",
      "source": [
        "**Ваша задача 2:**\n",
        "\n",
        "- [ ] Перебором по сетке (c 10-ю фолдами) подберите оптимальные параметры для [ElasticNet](https://scikit-learn.org/stable/modules/generated/sklearn.linear_model.ElasticNet.html) регрессии.\n",
        "- [ ] Ответьте на вопрос:\n",
        " - Сколько грид-сёрчу пришлось обучать моделей?\n",
        " - Какие гиперпараметры соответствуют лучшей (по выбранной метрике качества) из перебранных моделей?"
      ],
      "metadata": {
        "id": "zB0Nrbk6oeCS"
      }
    },
    {
      "cell_type": "code",
      "source": [
        "# your code here"
      ],
      "metadata": {
        "id": "gIzvY8bToeCS"
      },
      "execution_count": null,
      "outputs": []
    },
    {
      "cell_type": "markdown",
      "source": [
        "### **Задание 18 (0.35 балла)**\n",
        "\n",
        "И так, вы обучили все варианты регуляризаций, доступные в sklearn, но не все, что мы обсудили на занятии! И следующее задание о забытой - $L0$ регуляризации.\n",
        "\n",
        "\n",
        "**Ваша задача:**>\n",
        "- [ ] Реализуйте модель с $L0$-регуляризаицей.\n",
        "- [ ] Обучите модель на данных и проанализируйте результат, экспериментируя с коэффициенитом регуляризации\n",
        "- [ ] Проанализируйте результаты обучения\n",
        "\n",
        "**Важно:**\n",
        "\n",
        "Вопреки тому, что L0 не реализована в стандартных пакетах, концепция данной регуляризации не является мертвой. Она может встречаться в [статьях](https://arxiv.org/abs/1712.01312) и экспериментах.\n",
        "\n"
      ],
      "metadata": {
        "id": "LnMD5tofz1J4"
      }
    },
    {
      "cell_type": "code",
      "source": [
        "# your code here"
      ],
      "metadata": {
        "id": "TCnz8l6x1Ddf"
      },
      "execution_count": null,
      "outputs": []
    },
    {
      "cell_type": "markdown",
      "source": [
        "# **Часть 3 (0.5 балла) | Добавляем категориальные фичи**\n",
        "\n",
        "Попробуем для улучшения модели дать ей больше признаков. Добавим категориальные фичи.\n",
        "\n",
        "За эту часть можно набрать 0.5 основных балла.\n",
        "\n"
      ],
      "metadata": {
        "id": "Y2y-_PCHrevF"
      }
    },
    {
      "cell_type": "markdown",
      "source": [
        "### **Задание 19 (0.1 балла)**\n",
        "\n",
        "Проанализируйте столбец `name`. Очевидно, что эта переменная является категориальной, однако категорий в ней много.\n",
        "\n",
        "- [ ] Предобработайте столбец `name`, чтобы избежать его удаления"
      ],
      "metadata": {
        "id": "frLASc5L8Tu5"
      }
    },
    {
      "cell_type": "code",
      "source": [
        "# your code here"
      ],
      "metadata": {
        "id": "jsXiFjaFrng-"
      },
      "execution_count": null,
      "outputs": []
    },
    {
      "cell_type": "code",
      "source": [
        "assert X_train_cat.shape == (5840, 11)"
      ],
      "metadata": {
        "id": "SqDhrd6Q8k-S"
      },
      "execution_count": null,
      "outputs": []
    },
    {
      "cell_type": "code",
      "source": [
        "X_train_cat.describe(include='object')"
      ],
      "metadata": {
        "id": "JyGl7KQQx_Ax"
      },
      "execution_count": null,
      "outputs": []
    },
    {
      "cell_type": "markdown",
      "source": [
        "### **Задание 20 (0.1 балла)**\n",
        "\n",
        "- [ ] Закодируйте категориалльные фичи и ``seats`` методом OneHot-кодирования."
      ],
      "metadata": {
        "id": "wYxtiDa_81AL"
      }
    },
    {
      "cell_type": "code",
      "source": [
        "from sklearn.preprocessing import OneHotEncoder # или можно использовать get_dummies из библиотеки pandas\n",
        "\n",
        "# your code here"
      ],
      "metadata": {
        "id": "wbN4yM2Frob7"
      },
      "execution_count": null,
      "outputs": []
    },
    {
      "cell_type": "markdown",
      "source": [
        "### **Задание 21 (0.2 балла)**\n",
        "\n",
        "OHE — базовый алгоритм преобразования категориальных признаков, но и с ним нужно быть аккуратными.\n",
        "\n",
        "**Ответьте на вопросы:**\n",
        "\n",
        "\n",
        "* Как корректно работать с OHE преобразованием?\n",
        "* Почему мы удаляем один столбец?\n",
        "* Пусть из $n$ признаков мы получили $n-1$ столбец, из которых $k < n -1$ оказались не важными по весам модели. Корректно ли их удалить?"
      ],
      "metadata": {
        "id": "UD3iEIX41PMF"
      }
    },
    {
      "cell_type": "markdown",
      "source": [
        "`Your answer here`"
      ],
      "metadata": {
        "id": "pt8GTXa_ay99"
      }
    },
    {
      "cell_type": "markdown",
      "source": [
        "### **Задание 22 (0.1 балла)**\n",
        "Повторим то, что делали на прошлом шаге для моделей на вещественных признаках, однако теперь с моделью `Ridge`.\n",
        "\n",
        "\n",
        "**Ваша задача:**\n",
        "- [ ] Переберите параметр регуляризации `alpha` для гребневой (ridge) регрессии с помощью класса `GridSearchCV` В качестве параметров при объявлении GridSearchCV кроме модели укажите метрику качества $R^2$. Кроссвалидируйтесь по 10-ти фолдам.\n",
        "- [ ] Ответье на вопрос: Удалось ли улучшить качество прогнозов?"
      ],
      "metadata": {
        "id": "b8fI5dQT-Fvx"
      }
    },
    {
      "cell_type": "code",
      "source": [
        "from sklearn.linear_model import Ridge\n",
        "from sklearn.model_selection import GridSearchCV\n",
        "\n",
        "# your code here"
      ],
      "metadata": {
        "id": "SLXCtme53Oup"
      },
      "execution_count": null,
      "outputs": []
    },
    {
      "cell_type": "markdown",
      "source": [
        "# **Часть 4 - бонусная (1 балл) | Feature Engineering**"
      ],
      "metadata": {
        "id": "T0OlrsmArp2I"
      }
    },
    {
      "cell_type": "markdown",
      "source": [
        "В этой части домашнего задания вам предлагается проявить свою креативность для улучшения прогноза модели. Любые другие модели, кроме различных форм линейной (или полиномиальной) регресси, использовать запрещается. А значит, придется работать с признаками\n",
        "\n",
        "**Что можно попробовать сделать?** (каждый пункт по 0.4 балла, но не больше 2-х баллов в сумме)\n",
        "\n",
        "1.   *Сгенерировать новые признаки на основе уже существующих:*\n",
        "    * посчитать произведения // частные признаков (кажется, что посчитать число \"лошадей\" на литр объема может быть полезно);\n",
        "    * имеет смысл обратить внимание на визуализации в части с EDA (к примеру, зависимость цены от года выглядит квадратичной, а не линейной; значит, квадрат года нам, скорее всего, принесет больше пользы)\n",
        "\n",
        "2.   *Добыть новые признаки:*\n",
        "    * имеем название автомобиля, которое никак не используем (можно спарсить инфу о классе автомобиля или каких-то специфических опциях)\n",
        "    * можно добавить пороговые признаки вроде \"владелец третий или больше\" и объединить признаки в некоторые осмысленные правила, например \"первый или второй владелец и продавец официальный дилер\" (подбирать пороги удобно по диаграммам рассеяния)\n",
        "\n",
        "3.   *Поработать с уже имеющимися:*\n",
        "    * далеко не факт, что заполнить пропуск медианой было лучшей идеей (как минимум, можно добавить dummy-столбец для модели, сигнализирующий, что раньше на месте медианы был пропуск -- там где он был, конечно); попробуйте другие способы филлинга;\n",
        "    * мы не анализировали, есть ли в данных выбросы => никак выбросы не обрабатывали; наиболее простым и, тем не менее, довольно полезным вариантом нахождения выбросов могут послужить boxplot'ы для каждого столбца; что делать с выбросами думайте сами :) -- вариантов довольно много\n",
        "    * мы толком не смотрели на таргет сам по себе; в нем тоже могут быть неожиданности -- стоит хотя бы проверить\n",
        "    * можно заметить, что некоторые признаки распределены совсем не нормально; возможно их стоит отлогарифмировать\n",
        "\n",
        "И так далее...\n",
        "\n",
        "Feel Free to Try!"
      ],
      "metadata": {
        "id": "NXo9jvHPEYtN"
      }
    },
    {
      "cell_type": "code",
      "source": [
        "# your code here"
      ],
      "metadata": {
        "id": "keijjrKbr3Ne"
      },
      "execution_count": null,
      "outputs": []
    },
    {
      "cell_type": "markdown",
      "source": [
        "# **Часть 4. | Бизнесовая (0.5 балла)**"
      ],
      "metadata": {
        "id": "mw6LOYJTL2x1"
      }
    },
    {
      "cell_type": "markdown",
      "source": [
        "### **Задание 23 (0.25 балла)**\n",
        "\n",
        "В мире бизнеса очень важно давать оценку качества модели понятную бизнесу, поэтому иногда заказчики приходят с кастомными метриками. Попробуем сделать такую для нашей задачи.\n",
        "\n",
        "**Описание метрики:**\n",
        "\n",
        "Среди всех предсказанных цен на авто нужно посчитать долю прогнозов, отличающихся от реальных цен на эти авто не более чем на 10% (в одну или другую сторону)\n",
        "\n",
        "**Ваша задача:**\n",
        "\n",
        "- [ ] Реализуйте метрику `business_metric`\n",
        "- [ ] Посчитайте метрику для всех обученных моделей и определеите, какаю лучше всего решает задачу бизнеса"
      ],
      "metadata": {
        "id": "0QpHAfbcMRfu"
      }
    },
    {
      "cell_type": "code",
      "source": [
        "def business_metrics(y_true, y_pred):\n",
        "    # your code here\n",
        "\n",
        "business_metrics(# your code here)"
      ],
      "metadata": {
        "id": "YrcaGhO7MnMR"
      },
      "execution_count": null,
      "outputs": []
    },
    {
      "cell_type": "markdown",
      "source": [
        "### **Задание 24 (0.25 балла)**\n",
        "\n",
        "Но у бизнеса не всегда есть идеи и иногда задача на выбор метрики делегируется вам.\n",
        "\n",
        "**Задание:**\n",
        "\n",
        "- [ ] Придумайте и реализуйте другую кастомную метрику с учетом того, что модель не должна сильно ошибаться в прогнозе, но недопрогноз для модели, согласно мнению бизнеса, хуже, чем перепрогноз.\n",
        "- [ ] Посчитайте метрику для всех обученных моделей и определеите, какаю лучше всего решает задачу бизнеса\n",
        "\n"
      ],
      "metadata": {
        "id": "_80dc_IV0bzK"
      }
    },
    {
      "cell_type": "code",
      "source": [
        "def your_business_metrics(y_true, y_pred):\n",
        "\n",
        "business_metrics(# your code here)"
      ],
      "metadata": {
        "id": "BSBWH2uT0ujp"
      },
      "execution_count": null,
      "outputs": []
    },
    {
      "cell_type": "markdown",
      "source": [
        "# **Часть 5 (3 балла) | Реализация сервиса на FastAPI**\n",
        "\n",
        "### **Задание 25**"
      ],
      "metadata": {
        "id": "ARi0hYPrsI4x"
      }
    },
    {
      "cell_type": "markdown",
      "source": [
        "Cделайте с помощью FastAPI сервис, который с точки зрения пользователя реализует две функции:\n",
        "\n",
        "1. на вход в формате json подаются признаки одного объекта, на выходе сервис выдает предсказанную стоимость машины\n",
        "2. на вход подается csv-файл с признаками тестовых объектов, на выходе получаем файл с +1 столбцом - предсказаниями на этих объектах\n",
        "\n",
        "С точки зрения реализации это означает следующее:\n",
        "- средствами pydantic должен быть описан класс базового объекта\n",
        "- класс с коллецией объектов\n",
        "- метод post, который получает на вход один объект описанного класса\n",
        "- метод post, который получает на вход коллекцию объектов описанного класса\n",
        "\n",
        "Шаблон для сервисной части дан ниже. Код необходимо дополнить и оформить в виде отдельного .py-файла."
      ],
      "metadata": {
        "id": "03rHiCmGKGU8"
      }
    },
    {
      "cell_type": "code",
      "source": [
        "from fastapi import FastAPI\n",
        "from pydantic import BaseModel\n",
        "from typing import List\n",
        "\n",
        "app = FastAPI()\n",
        "\n",
        "\n",
        "class Item(BaseModel):\n",
        "    name: str\n",
        "    year: int\n",
        "    selling_price: int\n",
        "    km_driven: int\n",
        "    fuel: str\n",
        "    seller_type: str\n",
        "    transmission: str\n",
        "    owner: str\n",
        "    mileage: str\n",
        "    engine: str\n",
        "    max_power: str\n",
        "    torque: str\n",
        "    seats: float\n",
        "\n",
        "\n",
        "class Items(BaseModel):\n",
        "    objects: List[Item]\n",
        "\n",
        "\n",
        "@app.post(\"/predict_item\")\n",
        "def predict_item(item: Item) -> float:\n",
        "    return ...\n",
        "\n",
        "\n",
        "@app.post(\"/predict_items\")\n",
        "def predict_items(items: List[Item]) -> List[float]:\n",
        "    return ..."
      ],
      "metadata": {
        "id": "6Qq8zyxNsYC3"
      },
      "execution_count": null,
      "outputs": []
    },
    {
      "cell_type": "markdown",
      "source": [
        "Протестируйте приложение на адекватность и запишите демо работы сервиса (`gif` | `mp4` | …)."
      ],
      "metadata": {
        "id": "3U29qIjog18v"
      }
    },
    {
      "cell_type": "markdown",
      "source": [
        "# **Часть 6 (1 балл) | Оформление результатов**\n",
        "\n",
        "### **Задание 26**"
      ],
      "metadata": {
        "id": "V4fq_10xsaHg"
      }
    },
    {
      "cell_type": "markdown",
      "source": [
        "**Результаты вашей работы** необходимо разместить в ПРИВАТНОМ GitHub-репозитории, в который добавить Вашего ассистента в роли коллаборатора.\n",
        "\n",
        "Под результатами понимаем следующее:\n",
        "* ``.ipynb``-ноутбук со всеми проведёнными вами экспериментами (output'ы ячеек, разумеется, сохранить)\n",
        "* ``.py``-файл с реализацией сервиса\n",
        "* ``.pickle``-файл с сохранёнными весами модели, коэффициентами скейлинга и прочими числовыми значениями, которые могут понадобиться для инференса\n",
        "* ``.md``-файл с выводами про проделанной вами работе:\n",
        "    * что было сделано\n",
        "    * с какими результатами\n",
        "    * что дало наибольший буст в качестве\n",
        "    * что сделать не вышло и почему (это нормально, даже хорошо😀)\n",
        "    * демо работы сервиса\n",
        "\n",
        "**За что могут быть сняты баллы в этом пункте:**\n",
        "* за отсутствие ``.pickle``-файла с весами использованной модели\n",
        "* за недостаточную аналитику в ``.md``-файле\n",
        "* за оформление и логику кода (в определённом смысле это тоже элемент оформления решения)"
      ],
      "metadata": {
        "id": "nmwf-ZrEKZy6"
      }
    },
    {
      "cell_type": "markdown",
      "source": [
        "## Заключительная часть"
      ],
      "metadata": {
        "id": "QSIEzw6sN8Zp"
      }
    },
    {
      "cell_type": "markdown",
      "source": [
        "Надеемся, вы честно проделали все пункты, а не просто пролистали досюда. Теперь можно отдохнуть и похвалить себя. Но пожалуйста, не стоит награждать себя до того, как закончите работать над домашкой :)\n"
      ],
      "metadata": {
        "id": "lWOSqmLWOAr-"
      }
    },
    {
      "cell_type": "markdown",
      "source": [
        "Поделитесь впечатлениями о задании:\n",
        "\n",
        "    (ваши эмоции от домашней работы)"
      ],
      "metadata": {
        "id": "t75jdr71XfhJ"
      }
    },
    {
      "cell_type": "markdown",
      "source": [
        "P.S Удачного кодинга!  \n",
        "Пейте черничный латте, пишите красивый Python!!"
      ],
      "metadata": {
        "id": "2pS33s3zXcoO"
      }
    }
  ]
}