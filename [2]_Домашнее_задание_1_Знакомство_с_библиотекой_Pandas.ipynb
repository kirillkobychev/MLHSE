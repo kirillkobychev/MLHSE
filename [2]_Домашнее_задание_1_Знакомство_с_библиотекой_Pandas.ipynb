{
  "cells": [
    {
      "cell_type": "markdown",
      "metadata": {
        "id": "view-in-github",
        "colab_type": "text"
      },
      "source": [
        "<a href=\"https://colab.research.google.com/github/kirillkobychev/MLHSE/blob/homework/%5B2%5D_%D0%94%D0%BE%D0%BC%D0%B0%D1%88%D0%BD%D0%B5%D0%B5_%D0%B7%D0%B0%D0%B4%D0%B0%D0%BD%D0%B8%D0%B5_1_%D0%97%D0%BD%D0%B0%D0%BA%D0%BE%D0%BC%D1%81%D1%82%D0%B2%D0%BE_%D1%81_%D0%B1%D0%B8%D0%B1%D0%BB%D0%B8%D0%BE%D1%82%D0%B5%D0%BA%D0%BE%D0%B9_Pandas.ipynb\" target=\"_parent\"><img src=\"https://colab.research.google.com/assets/colab-badge.svg\" alt=\"Open In Colab\"/></a>"
      ]
    },
    {
      "cell_type": "markdown",
      "metadata": {
        "_uuid": "21c25e4f8bb31570029fd6b069131a5d00f84cf1",
        "id": "3-tVAicKr1C7"
      },
      "source": [
        "# Домашнее задание 1. Знакомство с библиотекой Pandas"
      ]
    },
    {
      "cell_type": "markdown",
      "source": [
        "Все задания ниже имеют равный вес."
      ],
      "metadata": {
        "id": "BQQyylzKr4qC"
      }
    },
    {
      "cell_type": "markdown",
      "source": [
        "## Описание данных"
      ],
      "metadata": {
        "id": "5HLoyae8xQ1l"
      }
    },
    {
      "cell_type": "markdown",
      "metadata": {
        "id": "vpSnDrAVr1C9"
      },
      "source": [
        "В папке Data находится информация о студентах. Всего 10 групп студентов.  \n",
        "Файлы делятся на две категории:\n",
        "*   `Students_info_i` - информация о студентах из группы `i`\n",
        "*   `Students_marks_i` - оценки студентов из группы `i` за экзамены\n",
        "\n"
      ]
    },
    {
      "cell_type": "markdown",
      "metadata": {
        "id": "3przp22Ir1C9"
      },
      "source": [
        "Одно из важных достоинств pandas $-$ это удобные методы реляционного взаимодействия с данными, аналогичные, например, возможностям SQL для слияния и конкатенации таблиц: merge, join, concat. Наличие готовых методов позволяет не реализовывать самостоятельно поэлементную обработку данных и оперировать сразу целыми таблицами данных.\n",
        "\n",
        "Подробно об этих методах посмотрите тут:\n",
        "\n",
        " https://www.kaggle.com/residentmario/renaming-and-combining#Combining"
      ]
    },
    {
      "cell_type": "markdown",
      "source": [
        "## Практика"
      ],
      "metadata": {
        "id": "mcbGj3CoxYqm"
      }
    },
    {
      "cell_type": "code",
      "source": [
        "# импортируем библиотеку Pandas\n",
        "import pandas as pd"
      ],
      "metadata": {
        "id": "OOiCLymw1F5B"
      },
      "execution_count": 43,
      "outputs": []
    },
    {
      "cell_type": "code",
      "source": [
        "%%capture\n",
        "# загружаем данные\n",
        "!wget https://github.com/evgpat/datasets/raw/main/students.zip"
      ],
      "metadata": {
        "id": "McFB9a_B9bAd"
      },
      "execution_count": 44,
      "outputs": []
    },
    {
      "cell_type": "code",
      "source": [
        "# проверяем загрузку (наличие файла students.zip)\n",
        "!ls -lah"
      ],
      "metadata": {
        "id": "ef78rqK6-U_j",
        "colab": {
          "base_uri": "https://localhost:8080/"
        },
        "outputId": "ff5f320f-b194-46ff-e11e-23fa3b8ee02b"
      },
      "execution_count": 45,
      "outputs": [
        {
          "output_type": "stream",
          "name": "stdout",
          "text": [
            "total 52K\n",
            "drwxr-xr-x 1 root root 4.0K Mar 20 16:33 .\n",
            "drwxr-xr-x 1 root root 4.0K Mar 20 16:06 ..\n",
            "drwxr-xr-x 4 root root 4.0K Mar 17 13:31 .config\n",
            "drwxr-xr-x 1 root root 4.0K Mar 17 13:32 sample_data\n",
            "drwxrwxr-x 2 root root 4.0K Jul 25  2023 students\n",
            "-rw-r--r-- 1 root root  16K Mar 20 16:08 students.zip\n",
            "-rw-r--r-- 1 root root  16K Mar 20 16:33 students.zip.1\n"
          ]
        }
      ]
    },
    {
      "cell_type": "code",
      "source": [
        "# разархивируем данные\n",
        "!unzip students.zip"
      ],
      "metadata": {
        "id": "xECazP09-iId",
        "colab": {
          "base_uri": "https://localhost:8080/"
        },
        "outputId": "f0f77abf-a4ea-4764-817e-0ceff0aff22d"
      },
      "execution_count": 46,
      "outputs": [
        {
          "output_type": "stream",
          "name": "stdout",
          "text": [
            "Archive:  students.zip\n",
            "replace students/Students_info_0.csv? [y]es, [n]o, [A]ll, [N]one, [r]ename: Y\n",
            "  inflating: students/Students_info_0.csv  \n",
            "replace students/Students_info_1.csv? [y]es, [n]o, [A]ll, [N]one, [r]ename: A\n",
            "  inflating: students/Students_info_1.csv  \n",
            "  inflating: students/Students_info_2.csv  \n",
            "  inflating: students/Students_info_3.csv  \n",
            "  inflating: students/Students_info_4.csv  \n",
            "  inflating: students/Students_info_5.csv  \n",
            "  inflating: students/Students_info_6.csv  \n",
            "  inflating: students/Students_info_7.csv  \n",
            "  inflating: students/Students_info_8.csv  \n",
            "  inflating: students/Students_info_9.csv  \n",
            "  inflating: students/Students_marks_0.csv  \n",
            "  inflating: students/Students_marks_1.csv  \n",
            "  inflating: students/Students_marks_2.csv  \n",
            "  inflating: students/Students_marks_3.csv  \n",
            "  inflating: students/Students_marks_4.csv  \n",
            "  inflating: students/Students_marks_5.csv  \n",
            "  inflating: students/Students_marks_6.csv  \n",
            "  inflating: students/Students_marks_7.csv  \n",
            "  inflating: students/Students_marks_8.csv  \n",
            "  inflating: students/Students_marks_9.csv  \n"
          ]
        }
      ]
    },
    {
      "cell_type": "code",
      "source": [
        "# смотрим что получилось\n",
        "!ls -lah students"
      ],
      "metadata": {
        "id": "m0n50cN0-72n",
        "colab": {
          "base_uri": "https://localhost:8080/"
        },
        "outputId": "32af6008-59ae-41ed-ba6a-9c6c6419880e"
      },
      "execution_count": 47,
      "outputs": [
        {
          "output_type": "stream",
          "name": "stdout",
          "text": [
            "total 128K\n",
            "drwxrwxr-x 2 root root 4.0K Mar 20 16:36 .\n",
            "drwxr-xr-x 1 root root 4.0K Mar 20 16:33 ..\n",
            "-rw-rw-r-- 1 root root 5.8K Jan 17  2021 Students_info_0.csv\n",
            "-rw-rw-r-- 1 root root 5.9K Jan 17  2021 Students_info_1.csv\n",
            "-rw-rw-r-- 1 root root 5.9K Jan 17  2021 Students_info_2.csv\n",
            "-rw-rw-r-- 1 root root 5.9K Jan 17  2021 Students_info_3.csv\n",
            "-rw-rw-r-- 1 root root 5.9K Jan 17  2021 Students_info_4.csv\n",
            "-rw-rw-r-- 1 root root 5.9K Jan 17  2021 Students_info_5.csv\n",
            "-rw-rw-r-- 1 root root 5.9K Jan 17  2021 Students_info_6.csv\n",
            "-rw-rw-r-- 1 root root 5.9K Jan 17  2021 Students_info_7.csv\n",
            "-rw-rw-r-- 1 root root 5.9K Jan 17  2021 Students_info_8.csv\n",
            "-rw-rw-r-- 1 root root 6.0K Jan 17  2021 Students_info_9.csv\n",
            "-rw-rw-r-- 1 root root 1.4K Jan 17  2021 Students_marks_0.csv\n",
            "-rw-rw-r-- 1 root root 1.5K Jan 17  2021 Students_marks_1.csv\n",
            "-rw-rw-r-- 1 root root 1.5K Jan 17  2021 Students_marks_2.csv\n",
            "-rw-rw-r-- 1 root root 1.5K Jan 17  2021 Students_marks_3.csv\n",
            "-rw-rw-r-- 1 root root 1.5K Jan 17  2021 Students_marks_4.csv\n",
            "-rw-rw-r-- 1 root root 1.5K Jan 17  2021 Students_marks_5.csv\n",
            "-rw-rw-r-- 1 root root 1.5K Jan 17  2021 Students_marks_6.csv\n",
            "-rw-rw-r-- 1 root root 1.5K Jan 17  2021 Students_marks_7.csv\n",
            "-rw-rw-r-- 1 root root 1.5K Jan 17  2021 Students_marks_8.csv\n",
            "-rw-rw-r-- 1 root root 1.5K Jan 17  2021 Students_marks_9.csv\n"
          ]
        }
      ]
    },
    {
      "cell_type": "markdown",
      "metadata": {
        "id": "3kQnuewfr1C9"
      },
      "source": [
        "### Задание 1"
      ]
    },
    {
      "cell_type": "markdown",
      "source": [
        "Соберите всю информацию о студентах в одну таблицу df. В получившейся таблице должна быть информация и оценки всех студентов из всех групп. Напечатайте несколько строк таблицы для демонстрации результата"
      ],
      "metadata": {
        "id": "0QHaDoSi_OZd"
      }
    },
    {
      "cell_type": "code",
      "execution_count": 48,
      "metadata": {
        "id": "pjzfuMd6r1C9"
      },
      "outputs": [],
      "source": [
        "# ваш код здесь\n",
        "st_info = [f'/content/students/Students_info_{i}.csv' for i in range(10)]\n",
        "ma_info = [f'/content/students/Students_marks_{i}.csv' for i in range(10)]\n",
        "\n",
        "st_df = [pd.read_csv(i) for i in st_info]\n",
        "stack_st_df = pd.concat(st_df, ignore_index = True)\n",
        "\n",
        "ma_df = [pd.read_csv(i) for i in ma_info]\n",
        "stack_ma_df = pd.concat(ma_df, ignore_index = True)\n",
        "\n",
        "st_ma_merge = pd.merge(stack_st_df, stack_ma_df, on = 'index', how = 'outer')"
      ]
    },
    {
      "cell_type": "markdown",
      "metadata": {
        "_uuid": "8524af4cbd2f7b7810e8a3095a74c9fe1df7eafa",
        "id": "YaAQdtmer1C-"
      },
      "source": [
        "### Задание 2"
      ]
    },
    {
      "cell_type": "markdown",
      "source": [
        "Удалите столбец index у полученной таблицы. Напечатайте первые 10 строк таблицы"
      ],
      "metadata": {
        "id": "mrtj9C2l_TVv"
      }
    },
    {
      "cell_type": "code",
      "execution_count": 49,
      "metadata": {
        "_uuid": "fe62eee87b9b94ab923f57b55eaf0554612aa9e9",
        "id": "QbZjjfk2r1C-",
        "colab": {
          "base_uri": "https://localhost:8080/",
          "height": 363
        },
        "outputId": "1ea3c30c-a090-4ea9-94c1-256079f1842e"
      },
      "outputs": [
        {
          "output_type": "execute_result",
          "data": {
            "text/plain": [
              "   gender race/ethnicity parental level of education         lunch  \\\n",
              "0  female        group B           bachelor's degree      standard   \n",
              "1  female        group C                some college      standard   \n",
              "2  female        group B             master's degree      standard   \n",
              "3    male        group A          associate's degree  free/reduced   \n",
              "4    male        group C                some college      standard   \n",
              "5  female        group B          associate's degree      standard   \n",
              "6  female        group B                some college      standard   \n",
              "7    male        group B                some college  free/reduced   \n",
              "8    male        group D                 high school  free/reduced   \n",
              "9  female        group B                 high school  free/reduced   \n",
              "\n",
              "  test preparation course   group  math score  reading score  writing score  \n",
              "0                    none  group1          72             72             74  \n",
              "1               completed  group1          69             90             88  \n",
              "2                    none  group1          90             95             93  \n",
              "3                    none  group1          47             57             44  \n",
              "4                    none  group1          76             78             75  \n",
              "5                    none  group1          71             83             78  \n",
              "6               completed  group1          88             95             92  \n",
              "7                    none  group1          40             43             39  \n",
              "8               completed  group1          64             64             67  \n",
              "9                    none  group1          38             60             50  "
            ],
            "text/html": [
              "\n",
              "  <div id=\"df-2dede768-3fe0-4a81-bb0b-db27670e9cbb\" class=\"colab-df-container\">\n",
              "    <div>\n",
              "<style scoped>\n",
              "    .dataframe tbody tr th:only-of-type {\n",
              "        vertical-align: middle;\n",
              "    }\n",
              "\n",
              "    .dataframe tbody tr th {\n",
              "        vertical-align: top;\n",
              "    }\n",
              "\n",
              "    .dataframe thead th {\n",
              "        text-align: right;\n",
              "    }\n",
              "</style>\n",
              "<table border=\"1\" class=\"dataframe\">\n",
              "  <thead>\n",
              "    <tr style=\"text-align: right;\">\n",
              "      <th></th>\n",
              "      <th>gender</th>\n",
              "      <th>race/ethnicity</th>\n",
              "      <th>parental level of education</th>\n",
              "      <th>lunch</th>\n",
              "      <th>test preparation course</th>\n",
              "      <th>group</th>\n",
              "      <th>math score</th>\n",
              "      <th>reading score</th>\n",
              "      <th>writing score</th>\n",
              "    </tr>\n",
              "  </thead>\n",
              "  <tbody>\n",
              "    <tr>\n",
              "      <th>0</th>\n",
              "      <td>female</td>\n",
              "      <td>group B</td>\n",
              "      <td>bachelor's degree</td>\n",
              "      <td>standard</td>\n",
              "      <td>none</td>\n",
              "      <td>group1</td>\n",
              "      <td>72</td>\n",
              "      <td>72</td>\n",
              "      <td>74</td>\n",
              "    </tr>\n",
              "    <tr>\n",
              "      <th>1</th>\n",
              "      <td>female</td>\n",
              "      <td>group C</td>\n",
              "      <td>some college</td>\n",
              "      <td>standard</td>\n",
              "      <td>completed</td>\n",
              "      <td>group1</td>\n",
              "      <td>69</td>\n",
              "      <td>90</td>\n",
              "      <td>88</td>\n",
              "    </tr>\n",
              "    <tr>\n",
              "      <th>2</th>\n",
              "      <td>female</td>\n",
              "      <td>group B</td>\n",
              "      <td>master's degree</td>\n",
              "      <td>standard</td>\n",
              "      <td>none</td>\n",
              "      <td>group1</td>\n",
              "      <td>90</td>\n",
              "      <td>95</td>\n",
              "      <td>93</td>\n",
              "    </tr>\n",
              "    <tr>\n",
              "      <th>3</th>\n",
              "      <td>male</td>\n",
              "      <td>group A</td>\n",
              "      <td>associate's degree</td>\n",
              "      <td>free/reduced</td>\n",
              "      <td>none</td>\n",
              "      <td>group1</td>\n",
              "      <td>47</td>\n",
              "      <td>57</td>\n",
              "      <td>44</td>\n",
              "    </tr>\n",
              "    <tr>\n",
              "      <th>4</th>\n",
              "      <td>male</td>\n",
              "      <td>group C</td>\n",
              "      <td>some college</td>\n",
              "      <td>standard</td>\n",
              "      <td>none</td>\n",
              "      <td>group1</td>\n",
              "      <td>76</td>\n",
              "      <td>78</td>\n",
              "      <td>75</td>\n",
              "    </tr>\n",
              "    <tr>\n",
              "      <th>5</th>\n",
              "      <td>female</td>\n",
              "      <td>group B</td>\n",
              "      <td>associate's degree</td>\n",
              "      <td>standard</td>\n",
              "      <td>none</td>\n",
              "      <td>group1</td>\n",
              "      <td>71</td>\n",
              "      <td>83</td>\n",
              "      <td>78</td>\n",
              "    </tr>\n",
              "    <tr>\n",
              "      <th>6</th>\n",
              "      <td>female</td>\n",
              "      <td>group B</td>\n",
              "      <td>some college</td>\n",
              "      <td>standard</td>\n",
              "      <td>completed</td>\n",
              "      <td>group1</td>\n",
              "      <td>88</td>\n",
              "      <td>95</td>\n",
              "      <td>92</td>\n",
              "    </tr>\n",
              "    <tr>\n",
              "      <th>7</th>\n",
              "      <td>male</td>\n",
              "      <td>group B</td>\n",
              "      <td>some college</td>\n",
              "      <td>free/reduced</td>\n",
              "      <td>none</td>\n",
              "      <td>group1</td>\n",
              "      <td>40</td>\n",
              "      <td>43</td>\n",
              "      <td>39</td>\n",
              "    </tr>\n",
              "    <tr>\n",
              "      <th>8</th>\n",
              "      <td>male</td>\n",
              "      <td>group D</td>\n",
              "      <td>high school</td>\n",
              "      <td>free/reduced</td>\n",
              "      <td>completed</td>\n",
              "      <td>group1</td>\n",
              "      <td>64</td>\n",
              "      <td>64</td>\n",
              "      <td>67</td>\n",
              "    </tr>\n",
              "    <tr>\n",
              "      <th>9</th>\n",
              "      <td>female</td>\n",
              "      <td>group B</td>\n",
              "      <td>high school</td>\n",
              "      <td>free/reduced</td>\n",
              "      <td>none</td>\n",
              "      <td>group1</td>\n",
              "      <td>38</td>\n",
              "      <td>60</td>\n",
              "      <td>50</td>\n",
              "    </tr>\n",
              "  </tbody>\n",
              "</table>\n",
              "</div>\n",
              "    <div class=\"colab-df-buttons\">\n",
              "\n",
              "  <div class=\"colab-df-container\">\n",
              "    <button class=\"colab-df-convert\" onclick=\"convertToInteractive('df-2dede768-3fe0-4a81-bb0b-db27670e9cbb')\"\n",
              "            title=\"Convert this dataframe to an interactive table.\"\n",
              "            style=\"display:none;\">\n",
              "\n",
              "  <svg xmlns=\"http://www.w3.org/2000/svg\" height=\"24px\" viewBox=\"0 -960 960 960\">\n",
              "    <path d=\"M120-120v-720h720v720H120Zm60-500h600v-160H180v160Zm220 220h160v-160H400v160Zm0 220h160v-160H400v160ZM180-400h160v-160H180v160Zm440 0h160v-160H620v160ZM180-180h160v-160H180v160Zm440 0h160v-160H620v160Z\"/>\n",
              "  </svg>\n",
              "    </button>\n",
              "\n",
              "  <style>\n",
              "    .colab-df-container {\n",
              "      display:flex;\n",
              "      gap: 12px;\n",
              "    }\n",
              "\n",
              "    .colab-df-convert {\n",
              "      background-color: #E8F0FE;\n",
              "      border: none;\n",
              "      border-radius: 50%;\n",
              "      cursor: pointer;\n",
              "      display: none;\n",
              "      fill: #1967D2;\n",
              "      height: 32px;\n",
              "      padding: 0 0 0 0;\n",
              "      width: 32px;\n",
              "    }\n",
              "\n",
              "    .colab-df-convert:hover {\n",
              "      background-color: #E2EBFA;\n",
              "      box-shadow: 0px 1px 2px rgba(60, 64, 67, 0.3), 0px 1px 3px 1px rgba(60, 64, 67, 0.15);\n",
              "      fill: #174EA6;\n",
              "    }\n",
              "\n",
              "    .colab-df-buttons div {\n",
              "      margin-bottom: 4px;\n",
              "    }\n",
              "\n",
              "    [theme=dark] .colab-df-convert {\n",
              "      background-color: #3B4455;\n",
              "      fill: #D2E3FC;\n",
              "    }\n",
              "\n",
              "    [theme=dark] .colab-df-convert:hover {\n",
              "      background-color: #434B5C;\n",
              "      box-shadow: 0px 1px 3px 1px rgba(0, 0, 0, 0.15);\n",
              "      filter: drop-shadow(0px 1px 2px rgba(0, 0, 0, 0.3));\n",
              "      fill: #FFFFFF;\n",
              "    }\n",
              "  </style>\n",
              "\n",
              "    <script>\n",
              "      const buttonEl =\n",
              "        document.querySelector('#df-2dede768-3fe0-4a81-bb0b-db27670e9cbb button.colab-df-convert');\n",
              "      buttonEl.style.display =\n",
              "        google.colab.kernel.accessAllowed ? 'block' : 'none';\n",
              "\n",
              "      async function convertToInteractive(key) {\n",
              "        const element = document.querySelector('#df-2dede768-3fe0-4a81-bb0b-db27670e9cbb');\n",
              "        const dataTable =\n",
              "          await google.colab.kernel.invokeFunction('convertToInteractive',\n",
              "                                                    [key], {});\n",
              "        if (!dataTable) return;\n",
              "\n",
              "        const docLinkHtml = 'Like what you see? Visit the ' +\n",
              "          '<a target=\"_blank\" href=https://colab.research.google.com/notebooks/data_table.ipynb>data table notebook</a>'\n",
              "          + ' to learn more about interactive tables.';\n",
              "        element.innerHTML = '';\n",
              "        dataTable['output_type'] = 'display_data';\n",
              "        await google.colab.output.renderOutput(dataTable, element);\n",
              "        const docLink = document.createElement('div');\n",
              "        docLink.innerHTML = docLinkHtml;\n",
              "        element.appendChild(docLink);\n",
              "      }\n",
              "    </script>\n",
              "  </div>\n",
              "\n",
              "\n",
              "<div id=\"df-f70ae9f1-e90d-4449-8a83-04ec529bf224\">\n",
              "  <button class=\"colab-df-quickchart\" onclick=\"quickchart('df-f70ae9f1-e90d-4449-8a83-04ec529bf224')\"\n",
              "            title=\"Suggest charts\"\n",
              "            style=\"display:none;\">\n",
              "\n",
              "<svg xmlns=\"http://www.w3.org/2000/svg\" height=\"24px\"viewBox=\"0 0 24 24\"\n",
              "     width=\"24px\">\n",
              "    <g>\n",
              "        <path d=\"M19 3H5c-1.1 0-2 .9-2 2v14c0 1.1.9 2 2 2h14c1.1 0 2-.9 2-2V5c0-1.1-.9-2-2-2zM9 17H7v-7h2v7zm4 0h-2V7h2v10zm4 0h-2v-4h2v4z\"/>\n",
              "    </g>\n",
              "</svg>\n",
              "  </button>\n",
              "\n",
              "<style>\n",
              "  .colab-df-quickchart {\n",
              "      --bg-color: #E8F0FE;\n",
              "      --fill-color: #1967D2;\n",
              "      --hover-bg-color: #E2EBFA;\n",
              "      --hover-fill-color: #174EA6;\n",
              "      --disabled-fill-color: #AAA;\n",
              "      --disabled-bg-color: #DDD;\n",
              "  }\n",
              "\n",
              "  [theme=dark] .colab-df-quickchart {\n",
              "      --bg-color: #3B4455;\n",
              "      --fill-color: #D2E3FC;\n",
              "      --hover-bg-color: #434B5C;\n",
              "      --hover-fill-color: #FFFFFF;\n",
              "      --disabled-bg-color: #3B4455;\n",
              "      --disabled-fill-color: #666;\n",
              "  }\n",
              "\n",
              "  .colab-df-quickchart {\n",
              "    background-color: var(--bg-color);\n",
              "    border: none;\n",
              "    border-radius: 50%;\n",
              "    cursor: pointer;\n",
              "    display: none;\n",
              "    fill: var(--fill-color);\n",
              "    height: 32px;\n",
              "    padding: 0;\n",
              "    width: 32px;\n",
              "  }\n",
              "\n",
              "  .colab-df-quickchart:hover {\n",
              "    background-color: var(--hover-bg-color);\n",
              "    box-shadow: 0 1px 2px rgba(60, 64, 67, 0.3), 0 1px 3px 1px rgba(60, 64, 67, 0.15);\n",
              "    fill: var(--button-hover-fill-color);\n",
              "  }\n",
              "\n",
              "  .colab-df-quickchart-complete:disabled,\n",
              "  .colab-df-quickchart-complete:disabled:hover {\n",
              "    background-color: var(--disabled-bg-color);\n",
              "    fill: var(--disabled-fill-color);\n",
              "    box-shadow: none;\n",
              "  }\n",
              "\n",
              "  .colab-df-spinner {\n",
              "    border: 2px solid var(--fill-color);\n",
              "    border-color: transparent;\n",
              "    border-bottom-color: var(--fill-color);\n",
              "    animation:\n",
              "      spin 1s steps(1) infinite;\n",
              "  }\n",
              "\n",
              "  @keyframes spin {\n",
              "    0% {\n",
              "      border-color: transparent;\n",
              "      border-bottom-color: var(--fill-color);\n",
              "      border-left-color: var(--fill-color);\n",
              "    }\n",
              "    20% {\n",
              "      border-color: transparent;\n",
              "      border-left-color: var(--fill-color);\n",
              "      border-top-color: var(--fill-color);\n",
              "    }\n",
              "    30% {\n",
              "      border-color: transparent;\n",
              "      border-left-color: var(--fill-color);\n",
              "      border-top-color: var(--fill-color);\n",
              "      border-right-color: var(--fill-color);\n",
              "    }\n",
              "    40% {\n",
              "      border-color: transparent;\n",
              "      border-right-color: var(--fill-color);\n",
              "      border-top-color: var(--fill-color);\n",
              "    }\n",
              "    60% {\n",
              "      border-color: transparent;\n",
              "      border-right-color: var(--fill-color);\n",
              "    }\n",
              "    80% {\n",
              "      border-color: transparent;\n",
              "      border-right-color: var(--fill-color);\n",
              "      border-bottom-color: var(--fill-color);\n",
              "    }\n",
              "    90% {\n",
              "      border-color: transparent;\n",
              "      border-bottom-color: var(--fill-color);\n",
              "    }\n",
              "  }\n",
              "</style>\n",
              "\n",
              "  <script>\n",
              "    async function quickchart(key) {\n",
              "      const quickchartButtonEl =\n",
              "        document.querySelector('#' + key + ' button');\n",
              "      quickchartButtonEl.disabled = true;  // To prevent multiple clicks.\n",
              "      quickchartButtonEl.classList.add('colab-df-spinner');\n",
              "      try {\n",
              "        const charts = await google.colab.kernel.invokeFunction(\n",
              "            'suggestCharts', [key], {});\n",
              "      } catch (error) {\n",
              "        console.error('Error during call to suggestCharts:', error);\n",
              "      }\n",
              "      quickchartButtonEl.classList.remove('colab-df-spinner');\n",
              "      quickchartButtonEl.classList.add('colab-df-quickchart-complete');\n",
              "    }\n",
              "    (() => {\n",
              "      let quickchartButtonEl =\n",
              "        document.querySelector('#df-f70ae9f1-e90d-4449-8a83-04ec529bf224 button');\n",
              "      quickchartButtonEl.style.display =\n",
              "        google.colab.kernel.accessAllowed ? 'block' : 'none';\n",
              "    })();\n",
              "  </script>\n",
              "</div>\n",
              "\n",
              "    </div>\n",
              "  </div>\n"
            ],
            "application/vnd.google.colaboratory.intrinsic+json": {
              "type": "dataframe",
              "variable_name": "st_ma_merge",
              "summary": "{\n  \"name\": \"st_ma_merge\",\n  \"rows\": 1000,\n  \"fields\": [\n    {\n      \"column\": \"gender\",\n      \"properties\": {\n        \"dtype\": \"category\",\n        \"num_unique_values\": 2,\n        \"samples\": [\n          \"male\",\n          \"female\"\n        ],\n        \"semantic_type\": \"\",\n        \"description\": \"\"\n      }\n    },\n    {\n      \"column\": \"race/ethnicity\",\n      \"properties\": {\n        \"dtype\": \"category\",\n        \"num_unique_values\": 5,\n        \"samples\": [\n          \"group C\",\n          \"group E\"\n        ],\n        \"semantic_type\": \"\",\n        \"description\": \"\"\n      }\n    },\n    {\n      \"column\": \"parental level of education\",\n      \"properties\": {\n        \"dtype\": \"category\",\n        \"num_unique_values\": 6,\n        \"samples\": [\n          \"bachelor's degree\",\n          \"some college\"\n        ],\n        \"semantic_type\": \"\",\n        \"description\": \"\"\n      }\n    },\n    {\n      \"column\": \"lunch\",\n      \"properties\": {\n        \"dtype\": \"category\",\n        \"num_unique_values\": 2,\n        \"samples\": [\n          \"free/reduced\",\n          \"standard\"\n        ],\n        \"semantic_type\": \"\",\n        \"description\": \"\"\n      }\n    },\n    {\n      \"column\": \"test preparation course\",\n      \"properties\": {\n        \"dtype\": \"category\",\n        \"num_unique_values\": 2,\n        \"samples\": [\n          \"completed\",\n          \"none\"\n        ],\n        \"semantic_type\": \"\",\n        \"description\": \"\"\n      }\n    },\n    {\n      \"column\": \"group\",\n      \"properties\": {\n        \"dtype\": \"category\",\n        \"num_unique_values\": 10,\n        \"samples\": [\n          \"group9\",\n          \"group2\"\n        ],\n        \"semantic_type\": \"\",\n        \"description\": \"\"\n      }\n    },\n    {\n      \"column\": \"math score\",\n      \"properties\": {\n        \"dtype\": \"number\",\n        \"std\": 15,\n        \"min\": 0,\n        \"max\": 100,\n        \"num_unique_values\": 81,\n        \"samples\": [\n          55,\n          72\n        ],\n        \"semantic_type\": \"\",\n        \"description\": \"\"\n      }\n    },\n    {\n      \"column\": \"reading score\",\n      \"properties\": {\n        \"dtype\": \"number\",\n        \"std\": 14,\n        \"min\": 17,\n        \"max\": 100,\n        \"num_unique_values\": 72,\n        \"samples\": [\n          78,\n          23\n        ],\n        \"semantic_type\": \"\",\n        \"description\": \"\"\n      }\n    },\n    {\n      \"column\": \"writing score\",\n      \"properties\": {\n        \"dtype\": \"number\",\n        \"std\": 15,\n        \"min\": 10,\n        \"max\": 100,\n        \"num_unique_values\": 77,\n        \"samples\": [\n          75,\n          76\n        ],\n        \"semantic_type\": \"\",\n        \"description\": \"\"\n      }\n    }\n  ]\n}"
            }
          },
          "metadata": {},
          "execution_count": 49
        }
      ],
      "source": [
        "# ваш код здесь\n",
        "st_ma_merge.drop('index', axis = 1, inplace = True)\n",
        "st_ma_merge.head(10)\n"
      ]
    },
    {
      "cell_type": "markdown",
      "metadata": {
        "_uuid": "5fcd622942b7ecfc318934c6a245d3bb3bf01e84",
        "id": "gLnD6YPkr1C-"
      },
      "source": [
        "### Задание 3"
      ]
    },
    {
      "cell_type": "markdown",
      "source": [
        "Выведите на экран размеры полученной таблицы"
      ],
      "metadata": {
        "id": "iSS1wJLqKoBm"
      }
    },
    {
      "cell_type": "code",
      "execution_count": 50,
      "metadata": {
        "_uuid": "16281cd7b4e941ebed8ca2e1b42f62f55d838684",
        "id": "iQQlxhAJr1C-",
        "colab": {
          "base_uri": "https://localhost:8080/"
        },
        "outputId": "91687363-8a55-41b8-c7d4-33ba988f2f56"
      },
      "outputs": [
        {
          "output_type": "execute_result",
          "data": {
            "text/plain": [
              "(1000, 9)"
            ]
          },
          "metadata": {},
          "execution_count": 50
        }
      ],
      "source": [
        "# ваш код здесь\n",
        "st_ma_merge.shape"
      ]
    },
    {
      "cell_type": "markdown",
      "metadata": {
        "_uuid": "fe8e3d58d29ca25dbbcf001392377643e6ff9a36",
        "id": "i4C0EUhTr1C-"
      },
      "source": [
        "### Задание 4"
      ]
    },
    {
      "cell_type": "markdown",
      "source": [
        "Выведите на экран статистические характеристики числовых столбцов таблицы (минимум, максимум, среднее значение, стандартное отклонение)"
      ],
      "metadata": {
        "id": "XKhfHhnuKq4m"
      }
    },
    {
      "cell_type": "code",
      "execution_count": 51,
      "metadata": {
        "_uuid": "e3d4bb80d2c4251fe517c24fcf08c5ff2d67b8aa",
        "id": "twppg5yZr1C-",
        "colab": {
          "base_uri": "https://localhost:8080/",
          "height": 300
        },
        "outputId": "bf8276a5-9d22-45fc-c961-73b4b260c8fe"
      },
      "outputs": [
        {
          "output_type": "execute_result",
          "data": {
            "text/plain": [
              "       math score  reading score  writing score\n",
              "count  1000.00000    1000.000000    1000.000000\n",
              "mean     66.08900      69.169000      68.054000\n",
              "std      15.16308      14.600192      15.195657\n",
              "min       0.00000      17.000000      10.000000\n",
              "25%      57.00000      59.000000      57.750000\n",
              "50%      66.00000      70.000000      69.000000\n",
              "75%      77.00000      79.000000      79.000000\n",
              "max     100.00000     100.000000     100.000000"
            ],
            "text/html": [
              "\n",
              "  <div id=\"df-1037b385-5ed2-4fe2-8c47-1672e83dafd7\" class=\"colab-df-container\">\n",
              "    <div>\n",
              "<style scoped>\n",
              "    .dataframe tbody tr th:only-of-type {\n",
              "        vertical-align: middle;\n",
              "    }\n",
              "\n",
              "    .dataframe tbody tr th {\n",
              "        vertical-align: top;\n",
              "    }\n",
              "\n",
              "    .dataframe thead th {\n",
              "        text-align: right;\n",
              "    }\n",
              "</style>\n",
              "<table border=\"1\" class=\"dataframe\">\n",
              "  <thead>\n",
              "    <tr style=\"text-align: right;\">\n",
              "      <th></th>\n",
              "      <th>math score</th>\n",
              "      <th>reading score</th>\n",
              "      <th>writing score</th>\n",
              "    </tr>\n",
              "  </thead>\n",
              "  <tbody>\n",
              "    <tr>\n",
              "      <th>count</th>\n",
              "      <td>1000.00000</td>\n",
              "      <td>1000.000000</td>\n",
              "      <td>1000.000000</td>\n",
              "    </tr>\n",
              "    <tr>\n",
              "      <th>mean</th>\n",
              "      <td>66.08900</td>\n",
              "      <td>69.169000</td>\n",
              "      <td>68.054000</td>\n",
              "    </tr>\n",
              "    <tr>\n",
              "      <th>std</th>\n",
              "      <td>15.16308</td>\n",
              "      <td>14.600192</td>\n",
              "      <td>15.195657</td>\n",
              "    </tr>\n",
              "    <tr>\n",
              "      <th>min</th>\n",
              "      <td>0.00000</td>\n",
              "      <td>17.000000</td>\n",
              "      <td>10.000000</td>\n",
              "    </tr>\n",
              "    <tr>\n",
              "      <th>25%</th>\n",
              "      <td>57.00000</td>\n",
              "      <td>59.000000</td>\n",
              "      <td>57.750000</td>\n",
              "    </tr>\n",
              "    <tr>\n",
              "      <th>50%</th>\n",
              "      <td>66.00000</td>\n",
              "      <td>70.000000</td>\n",
              "      <td>69.000000</td>\n",
              "    </tr>\n",
              "    <tr>\n",
              "      <th>75%</th>\n",
              "      <td>77.00000</td>\n",
              "      <td>79.000000</td>\n",
              "      <td>79.000000</td>\n",
              "    </tr>\n",
              "    <tr>\n",
              "      <th>max</th>\n",
              "      <td>100.00000</td>\n",
              "      <td>100.000000</td>\n",
              "      <td>100.000000</td>\n",
              "    </tr>\n",
              "  </tbody>\n",
              "</table>\n",
              "</div>\n",
              "    <div class=\"colab-df-buttons\">\n",
              "\n",
              "  <div class=\"colab-df-container\">\n",
              "    <button class=\"colab-df-convert\" onclick=\"convertToInteractive('df-1037b385-5ed2-4fe2-8c47-1672e83dafd7')\"\n",
              "            title=\"Convert this dataframe to an interactive table.\"\n",
              "            style=\"display:none;\">\n",
              "\n",
              "  <svg xmlns=\"http://www.w3.org/2000/svg\" height=\"24px\" viewBox=\"0 -960 960 960\">\n",
              "    <path d=\"M120-120v-720h720v720H120Zm60-500h600v-160H180v160Zm220 220h160v-160H400v160Zm0 220h160v-160H400v160ZM180-400h160v-160H180v160Zm440 0h160v-160H620v160ZM180-180h160v-160H180v160Zm440 0h160v-160H620v160Z\"/>\n",
              "  </svg>\n",
              "    </button>\n",
              "\n",
              "  <style>\n",
              "    .colab-df-container {\n",
              "      display:flex;\n",
              "      gap: 12px;\n",
              "    }\n",
              "\n",
              "    .colab-df-convert {\n",
              "      background-color: #E8F0FE;\n",
              "      border: none;\n",
              "      border-radius: 50%;\n",
              "      cursor: pointer;\n",
              "      display: none;\n",
              "      fill: #1967D2;\n",
              "      height: 32px;\n",
              "      padding: 0 0 0 0;\n",
              "      width: 32px;\n",
              "    }\n",
              "\n",
              "    .colab-df-convert:hover {\n",
              "      background-color: #E2EBFA;\n",
              "      box-shadow: 0px 1px 2px rgba(60, 64, 67, 0.3), 0px 1px 3px 1px rgba(60, 64, 67, 0.15);\n",
              "      fill: #174EA6;\n",
              "    }\n",
              "\n",
              "    .colab-df-buttons div {\n",
              "      margin-bottom: 4px;\n",
              "    }\n",
              "\n",
              "    [theme=dark] .colab-df-convert {\n",
              "      background-color: #3B4455;\n",
              "      fill: #D2E3FC;\n",
              "    }\n",
              "\n",
              "    [theme=dark] .colab-df-convert:hover {\n",
              "      background-color: #434B5C;\n",
              "      box-shadow: 0px 1px 3px 1px rgba(0, 0, 0, 0.15);\n",
              "      filter: drop-shadow(0px 1px 2px rgba(0, 0, 0, 0.3));\n",
              "      fill: #FFFFFF;\n",
              "    }\n",
              "  </style>\n",
              "\n",
              "    <script>\n",
              "      const buttonEl =\n",
              "        document.querySelector('#df-1037b385-5ed2-4fe2-8c47-1672e83dafd7 button.colab-df-convert');\n",
              "      buttonEl.style.display =\n",
              "        google.colab.kernel.accessAllowed ? 'block' : 'none';\n",
              "\n",
              "      async function convertToInteractive(key) {\n",
              "        const element = document.querySelector('#df-1037b385-5ed2-4fe2-8c47-1672e83dafd7');\n",
              "        const dataTable =\n",
              "          await google.colab.kernel.invokeFunction('convertToInteractive',\n",
              "                                                    [key], {});\n",
              "        if (!dataTable) return;\n",
              "\n",
              "        const docLinkHtml = 'Like what you see? Visit the ' +\n",
              "          '<a target=\"_blank\" href=https://colab.research.google.com/notebooks/data_table.ipynb>data table notebook</a>'\n",
              "          + ' to learn more about interactive tables.';\n",
              "        element.innerHTML = '';\n",
              "        dataTable['output_type'] = 'display_data';\n",
              "        await google.colab.output.renderOutput(dataTable, element);\n",
              "        const docLink = document.createElement('div');\n",
              "        docLink.innerHTML = docLinkHtml;\n",
              "        element.appendChild(docLink);\n",
              "      }\n",
              "    </script>\n",
              "  </div>\n",
              "\n",
              "\n",
              "<div id=\"df-10d3c2af-610a-430e-8f5c-089b126c1ff8\">\n",
              "  <button class=\"colab-df-quickchart\" onclick=\"quickchart('df-10d3c2af-610a-430e-8f5c-089b126c1ff8')\"\n",
              "            title=\"Suggest charts\"\n",
              "            style=\"display:none;\">\n",
              "\n",
              "<svg xmlns=\"http://www.w3.org/2000/svg\" height=\"24px\"viewBox=\"0 0 24 24\"\n",
              "     width=\"24px\">\n",
              "    <g>\n",
              "        <path d=\"M19 3H5c-1.1 0-2 .9-2 2v14c0 1.1.9 2 2 2h14c1.1 0 2-.9 2-2V5c0-1.1-.9-2-2-2zM9 17H7v-7h2v7zm4 0h-2V7h2v10zm4 0h-2v-4h2v4z\"/>\n",
              "    </g>\n",
              "</svg>\n",
              "  </button>\n",
              "\n",
              "<style>\n",
              "  .colab-df-quickchart {\n",
              "      --bg-color: #E8F0FE;\n",
              "      --fill-color: #1967D2;\n",
              "      --hover-bg-color: #E2EBFA;\n",
              "      --hover-fill-color: #174EA6;\n",
              "      --disabled-fill-color: #AAA;\n",
              "      --disabled-bg-color: #DDD;\n",
              "  }\n",
              "\n",
              "  [theme=dark] .colab-df-quickchart {\n",
              "      --bg-color: #3B4455;\n",
              "      --fill-color: #D2E3FC;\n",
              "      --hover-bg-color: #434B5C;\n",
              "      --hover-fill-color: #FFFFFF;\n",
              "      --disabled-bg-color: #3B4455;\n",
              "      --disabled-fill-color: #666;\n",
              "  }\n",
              "\n",
              "  .colab-df-quickchart {\n",
              "    background-color: var(--bg-color);\n",
              "    border: none;\n",
              "    border-radius: 50%;\n",
              "    cursor: pointer;\n",
              "    display: none;\n",
              "    fill: var(--fill-color);\n",
              "    height: 32px;\n",
              "    padding: 0;\n",
              "    width: 32px;\n",
              "  }\n",
              "\n",
              "  .colab-df-quickchart:hover {\n",
              "    background-color: var(--hover-bg-color);\n",
              "    box-shadow: 0 1px 2px rgba(60, 64, 67, 0.3), 0 1px 3px 1px rgba(60, 64, 67, 0.15);\n",
              "    fill: var(--button-hover-fill-color);\n",
              "  }\n",
              "\n",
              "  .colab-df-quickchart-complete:disabled,\n",
              "  .colab-df-quickchart-complete:disabled:hover {\n",
              "    background-color: var(--disabled-bg-color);\n",
              "    fill: var(--disabled-fill-color);\n",
              "    box-shadow: none;\n",
              "  }\n",
              "\n",
              "  .colab-df-spinner {\n",
              "    border: 2px solid var(--fill-color);\n",
              "    border-color: transparent;\n",
              "    border-bottom-color: var(--fill-color);\n",
              "    animation:\n",
              "      spin 1s steps(1) infinite;\n",
              "  }\n",
              "\n",
              "  @keyframes spin {\n",
              "    0% {\n",
              "      border-color: transparent;\n",
              "      border-bottom-color: var(--fill-color);\n",
              "      border-left-color: var(--fill-color);\n",
              "    }\n",
              "    20% {\n",
              "      border-color: transparent;\n",
              "      border-left-color: var(--fill-color);\n",
              "      border-top-color: var(--fill-color);\n",
              "    }\n",
              "    30% {\n",
              "      border-color: transparent;\n",
              "      border-left-color: var(--fill-color);\n",
              "      border-top-color: var(--fill-color);\n",
              "      border-right-color: var(--fill-color);\n",
              "    }\n",
              "    40% {\n",
              "      border-color: transparent;\n",
              "      border-right-color: var(--fill-color);\n",
              "      border-top-color: var(--fill-color);\n",
              "    }\n",
              "    60% {\n",
              "      border-color: transparent;\n",
              "      border-right-color: var(--fill-color);\n",
              "    }\n",
              "    80% {\n",
              "      border-color: transparent;\n",
              "      border-right-color: var(--fill-color);\n",
              "      border-bottom-color: var(--fill-color);\n",
              "    }\n",
              "    90% {\n",
              "      border-color: transparent;\n",
              "      border-bottom-color: var(--fill-color);\n",
              "    }\n",
              "  }\n",
              "</style>\n",
              "\n",
              "  <script>\n",
              "    async function quickchart(key) {\n",
              "      const quickchartButtonEl =\n",
              "        document.querySelector('#' + key + ' button');\n",
              "      quickchartButtonEl.disabled = true;  // To prevent multiple clicks.\n",
              "      quickchartButtonEl.classList.add('colab-df-spinner');\n",
              "      try {\n",
              "        const charts = await google.colab.kernel.invokeFunction(\n",
              "            'suggestCharts', [key], {});\n",
              "      } catch (error) {\n",
              "        console.error('Error during call to suggestCharts:', error);\n",
              "      }\n",
              "      quickchartButtonEl.classList.remove('colab-df-spinner');\n",
              "      quickchartButtonEl.classList.add('colab-df-quickchart-complete');\n",
              "    }\n",
              "    (() => {\n",
              "      let quickchartButtonEl =\n",
              "        document.querySelector('#df-10d3c2af-610a-430e-8f5c-089b126c1ff8 button');\n",
              "      quickchartButtonEl.style.display =\n",
              "        google.colab.kernel.accessAllowed ? 'block' : 'none';\n",
              "    })();\n",
              "  </script>\n",
              "</div>\n",
              "\n",
              "    </div>\n",
              "  </div>\n"
            ],
            "application/vnd.google.colaboratory.intrinsic+json": {
              "type": "dataframe",
              "summary": "{\n  \"name\": \"st_ma_merge\",\n  \"rows\": 8,\n  \"fields\": [\n    {\n      \"column\": \"math score\",\n      \"properties\": {\n        \"dtype\": \"number\",\n        \"std\": 335.8676421540409,\n        \"min\": 0.0,\n        \"max\": 1000.0,\n        \"num_unique_values\": 8,\n        \"samples\": [\n          66.089,\n          66.0,\n          1000.0\n        ],\n        \"semantic_type\": \"\",\n        \"description\": \"\"\n      }\n    },\n    {\n      \"column\": \"reading score\",\n      \"properties\": {\n        \"dtype\": \"number\",\n        \"std\": 334.2004716262942,\n        \"min\": 14.60019193725222,\n        \"max\": 1000.0,\n        \"num_unique_values\": 8,\n        \"samples\": [\n          69.169,\n          70.0,\n          1000.0\n        ],\n        \"semantic_type\": \"\",\n        \"description\": \"\"\n      }\n    },\n    {\n      \"column\": \"writing score\",\n      \"properties\": {\n        \"dtype\": \"number\",\n        \"std\": 334.8025670597152,\n        \"min\": 10.0,\n        \"max\": 1000.0,\n        \"num_unique_values\": 8,\n        \"samples\": [\n          68.054,\n          69.0,\n          1000.0\n        ],\n        \"semantic_type\": \"\",\n        \"description\": \"\"\n      }\n    }\n  ]\n}"
            }
          },
          "metadata": {},
          "execution_count": 51
        }
      ],
      "source": [
        "# ваш код здесь\n",
        "st_ma_merge.describe()"
      ]
    },
    {
      "cell_type": "markdown",
      "metadata": {
        "_uuid": "b26b7de83485ecb3b8a0a7865a596e24527c7b2f",
        "id": "BhS_xiIDr1C_"
      },
      "source": [
        "### Задание 5"
      ]
    },
    {
      "cell_type": "markdown",
      "source": [
        "Проверьте, есть ли в таблице пропущенные значения"
      ],
      "metadata": {
        "id": "utIlUSPeKvnJ"
      }
    },
    {
      "cell_type": "code",
      "execution_count": 52,
      "metadata": {
        "_uuid": "4eac3f8f83d07c6e58ad1576fe0e773f37034a2f",
        "id": "TXlZ2JKZr1C_",
        "colab": {
          "base_uri": "https://localhost:8080/",
          "height": 366
        },
        "outputId": "825abc6e-2a28-4849-eb14-d0cfd2efe90b"
      },
      "outputs": [
        {
          "output_type": "execute_result",
          "data": {
            "text/plain": [
              "gender                         0\n",
              "race/ethnicity                 0\n",
              "parental level of education    0\n",
              "lunch                          0\n",
              "test preparation course        0\n",
              "group                          0\n",
              "math score                     0\n",
              "reading score                  0\n",
              "writing score                  0\n",
              "dtype: int64"
            ],
            "text/html": [
              "<div>\n",
              "<style scoped>\n",
              "    .dataframe tbody tr th:only-of-type {\n",
              "        vertical-align: middle;\n",
              "    }\n",
              "\n",
              "    .dataframe tbody tr th {\n",
              "        vertical-align: top;\n",
              "    }\n",
              "\n",
              "    .dataframe thead th {\n",
              "        text-align: right;\n",
              "    }\n",
              "</style>\n",
              "<table border=\"1\" class=\"dataframe\">\n",
              "  <thead>\n",
              "    <tr style=\"text-align: right;\">\n",
              "      <th></th>\n",
              "      <th>0</th>\n",
              "    </tr>\n",
              "  </thead>\n",
              "  <tbody>\n",
              "    <tr>\n",
              "      <th>gender</th>\n",
              "      <td>0</td>\n",
              "    </tr>\n",
              "    <tr>\n",
              "      <th>race/ethnicity</th>\n",
              "      <td>0</td>\n",
              "    </tr>\n",
              "    <tr>\n",
              "      <th>parental level of education</th>\n",
              "      <td>0</td>\n",
              "    </tr>\n",
              "    <tr>\n",
              "      <th>lunch</th>\n",
              "      <td>0</td>\n",
              "    </tr>\n",
              "    <tr>\n",
              "      <th>test preparation course</th>\n",
              "      <td>0</td>\n",
              "    </tr>\n",
              "    <tr>\n",
              "      <th>group</th>\n",
              "      <td>0</td>\n",
              "    </tr>\n",
              "    <tr>\n",
              "      <th>math score</th>\n",
              "      <td>0</td>\n",
              "    </tr>\n",
              "    <tr>\n",
              "      <th>reading score</th>\n",
              "      <td>0</td>\n",
              "    </tr>\n",
              "    <tr>\n",
              "      <th>writing score</th>\n",
              "      <td>0</td>\n",
              "    </tr>\n",
              "  </tbody>\n",
              "</table>\n",
              "</div><br><label><b>dtype:</b> int64</label>"
            ]
          },
          "metadata": {},
          "execution_count": 52
        }
      ],
      "source": [
        "# ваш код здесь\n",
        "st_ma_merge.isnull().sum()"
      ]
    },
    {
      "cell_type": "markdown",
      "metadata": {
        "id": "KOXkgrCsr1C_"
      },
      "source": [
        "### Задание 6"
      ]
    },
    {
      "cell_type": "markdown",
      "source": [
        "Выведите на экран средние баллы студентов по каждому предмету (`math`, `reading`, `writing`)"
      ],
      "metadata": {
        "id": "Ua3muRwsKyWZ"
      }
    },
    {
      "cell_type": "code",
      "execution_count": 53,
      "metadata": {
        "id": "h2pGYA-Wr1C_",
        "colab": {
          "base_uri": "https://localhost:8080/"
        },
        "outputId": "2e040c5f-19a0-49b7-e9dc-c1cea8cc7452"
      },
      "outputs": [
        {
          "output_type": "stream",
          "name": "stdout",
          "text": [
            "math score       66.089\n",
            "reading score    69.169\n",
            "writing score    68.054\n",
            "dtype: float64\n"
          ]
        }
      ],
      "source": [
        "# ваш код здесь\n",
        "mean_scores = st_ma_merge[['math score', 'reading score', 'writing score']].mean()\n",
        "print(mean_scores)"
      ]
    },
    {
      "cell_type": "markdown",
      "metadata": {
        "id": "fczoCZJTr1DA"
      },
      "source": [
        "### Задание 7"
      ]
    },
    {
      "cell_type": "markdown",
      "source": [
        "Как зависят оценки от того, проходил ли студент курс для подготовки к сдаче экзамена (test preparation course)?\n",
        "\n",
        "Выведите на экран для каждого предмета в отдельности средний балл студентов, проходивших курс для подготовки к экзамену и не проходивших курс."
      ],
      "metadata": {
        "id": "18pWMoCbK6Bm"
      }
    },
    {
      "cell_type": "code",
      "execution_count": 54,
      "metadata": {
        "id": "ZhWK8xVCr1DA",
        "colab": {
          "base_uri": "https://localhost:8080/"
        },
        "outputId": "9bdce7f0-cf86-4381-98dc-aec28b120c59"
      },
      "outputs": [
        {
          "output_type": "stream",
          "name": "stdout",
          "text": [
            "                         math score  reading score  writing score\n",
            "test preparation course                                          \n",
            "completed                 69.695531      73.893855      74.418994\n",
            "none                      64.077882      66.534268      64.504673\n"
          ]
        }
      ],
      "source": [
        "# ваш код здесь\n",
        "st_scores_exam = st_ma_merge.groupby('test preparation course')[['math score', 'reading score', 'writing score']].mean()\n",
        "print(st_scores_exam)"
      ]
    },
    {
      "cell_type": "markdown",
      "metadata": {
        "id": "0HoILF9Er1DA"
      },
      "source": [
        "### Задание 8"
      ]
    },
    {
      "cell_type": "markdown",
      "source": [
        "Выведите на экран все различные значения из столбца `lunch`"
      ],
      "metadata": {
        "id": "3dvqwn7XMl4L"
      }
    },
    {
      "cell_type": "code",
      "execution_count": 55,
      "metadata": {
        "id": "6l_XMKFbr1DA",
        "colab": {
          "base_uri": "https://localhost:8080/"
        },
        "outputId": "5ea4bbbd-5de9-4db6-d008-9a61e622dd1a"
      },
      "outputs": [
        {
          "output_type": "stream",
          "name": "stdout",
          "text": [
            "['standard' 'free/reduced']\n"
          ]
        }
      ],
      "source": [
        "# ваш код здесь\n",
        "st_ma_merge_lunch = st_ma_merge['lunch'].unique()\n",
        "print(st_ma_merge_lunch)"
      ]
    },
    {
      "cell_type": "markdown",
      "metadata": {
        "id": "8vG57VtAr1DA"
      },
      "source": [
        "### Задание 9"
      ]
    },
    {
      "cell_type": "markdown",
      "source": [
        "Переименуйте колонку `parental level of education` в `education`, а `test preparation course` в `test preparation` с помощью метода pandas [`rename`](https://pandas.pydata.org/pandas-docs/stable/reference/api/pandas.DataFrame.rename.html)"
      ],
      "metadata": {
        "id": "qdsFzJmVMy6w"
      }
    },
    {
      "cell_type": "code",
      "execution_count": 56,
      "metadata": {
        "id": "K7p_wEhzr1DB",
        "colab": {
          "base_uri": "https://localhost:8080/"
        },
        "outputId": "d4c9fe0f-4f14-4f84-97dc-1851b0aae648"
      },
      "outputs": [
        {
          "output_type": "stream",
          "name": "stdout",
          "text": [
            "     gender race/ethnicity           education         lunch test preparation  \\\n",
            "0    female        group B   bachelor's degree      standard             none   \n",
            "1    female        group C        some college      standard        completed   \n",
            "2    female        group B     master's degree      standard             none   \n",
            "3      male        group A  associate's degree  free/reduced             none   \n",
            "4      male        group C        some college      standard             none   \n",
            "..      ...            ...                 ...           ...              ...   \n",
            "995  female        group E     master's degree      standard        completed   \n",
            "996    male        group C         high school  free/reduced             none   \n",
            "997  female        group C         high school  free/reduced        completed   \n",
            "998  female        group D        some college      standard        completed   \n",
            "999  female        group D        some college  free/reduced             none   \n",
            "\n",
            "       group  math score  reading score  writing score  \n",
            "0     group1          72             72             74  \n",
            "1     group1          69             90             88  \n",
            "2     group1          90             95             93  \n",
            "3     group1          47             57             44  \n",
            "4     group1          76             78             75  \n",
            "..       ...         ...            ...            ...  \n",
            "995  group10          88             99             95  \n",
            "996  group10          62             55             55  \n",
            "997  group10          59             71             65  \n",
            "998  group10          68             78             77  \n",
            "999  group10          77             86             86  \n",
            "\n",
            "[1000 rows x 9 columns]\n"
          ]
        }
      ],
      "source": [
        "# ваш код здесь\n",
        "st_ma_merge_rename = st_ma_merge.rename(columns = {'parental level of education': 'education',\n",
        "                                                   'test preparation course': 'test preparation'})\n",
        "print(st_ma_merge_rename)"
      ]
    },
    {
      "cell_type": "markdown",
      "source": [
        "### Задание 10"
      ],
      "metadata": {
        "id": "_Ft8TrDbM_ud"
      }
    },
    {
      "cell_type": "markdown",
      "metadata": {
        "id": "6NGpIYJzr1DB"
      },
      "source": [
        "**Зафиксируем минимальный балл для сдачи экзамена**"
      ]
    },
    {
      "cell_type": "code",
      "execution_count": 57,
      "metadata": {
        "id": "kxHBHeU6r1DB"
      },
      "outputs": [],
      "source": [
        "passmark = 50"
      ]
    },
    {
      "cell_type": "markdown",
      "metadata": {
        "id": "xTjgdXGMr1DB"
      },
      "source": [
        "**Ответьте на вопросы**\n",
        "* Какая доля студентов сдала экзамен по математике (passmark > 50)?\n",
        "* Какая доля студентов, проходивших курс подготовки к экзамену, сдала экзамен по математике?\n",
        "* Какая доля женщин, не проходивших курс подготовки к экзамену, не сдала экзамен по математике?"
      ]
    },
    {
      "cell_type": "code",
      "execution_count": 58,
      "metadata": {
        "id": "5v8uB_2er1DB",
        "colab": {
          "base_uri": "https://localhost:8080/"
        },
        "outputId": "c8316e72-018f-429e-a947-366250bc04cd"
      },
      "outputs": [
        {
          "output_type": "stream",
          "name": "stdout",
          "text": [
            "0.85\n"
          ]
        }
      ],
      "source": [
        "# ваш код здесь\n",
        "st_ma_merge_rename_passmark = (st_ma_merge_rename['math score'] > passmark).sum()\n",
        "w = (st_ma_merge_rename_passmark/len(st_ma_merge_rename))\n",
        "print(w)\n"
      ]
    },
    {
      "cell_type": "code",
      "source": [
        "# ваш код здесь\n",
        "st_ma_merge_rename_test_preparation = st_ma_merge_rename[(st_ma_merge_rename['test preparation'] == 'completed')\n",
        "                                                        & (st_ma_merge_rename['math score'] > passmark)].shape[0]\n",
        "w_test_preparation = st_ma_merge_rename_test_preparation/st_ma_merge_rename[(st_ma_merge_rename['test preparation'] == 'completed')].shape[0]\n",
        "print(f'{w_test_preparation:2f}')"
      ],
      "metadata": {
        "id": "Mwm_tNJ7NGvx",
        "colab": {
          "base_uri": "https://localhost:8080/"
        },
        "outputId": "2554efea-ad26-4952-8588-f294b963f7ce"
      },
      "execution_count": 59,
      "outputs": [
        {
          "output_type": "stream",
          "name": "stdout",
          "text": [
            "0.907821\n"
          ]
        }
      ]
    },
    {
      "cell_type": "code",
      "source": [
        "# ваш код здесь\n",
        "st_ma_merge_rename_no_test_preparation_women = st_ma_merge_rename[(st_ma_merge_rename['test preparation'] != 'completed')\n",
        "                                                                & (st_ma_merge_rename['gender'] == 'female')\n",
        "                                                                & (st_ma_merge_rename['math score'] < passmark)].shape[0]\n",
        "w_test_preparation_women = st_ma_merge_rename_no_test_preparation_women/st_ma_merge_rename[(st_ma_merge_rename['test preparation'] != 'completed')\n",
        "                                                                & (st_ma_merge_rename['gender'] == 'female')].shape[0]\n",
        "print(f'{w_test_preparation_women:2f}')"
      ],
      "metadata": {
        "id": "XYmblIG_NIQg",
        "colab": {
          "base_uri": "https://localhost:8080/"
        },
        "outputId": "8938f8f8-d7a1-4cfd-aa18-633e6859021d"
      },
      "execution_count": 60,
      "outputs": [
        {
          "output_type": "stream",
          "name": "stdout",
          "text": [
            "0.209581\n"
          ]
        }
      ]
    },
    {
      "cell_type": "markdown",
      "metadata": {
        "id": "LysYnT_pr1DB"
      },
      "source": [
        "### Задание 11"
      ]
    },
    {
      "cell_type": "markdown",
      "source": [
        "С помощью `groupby` выполните задания ниже. Также выведите время выполнения каждого из заданий.\n",
        "* Для каждой этнической группы выведите средний балл за экзамен по чтению\n",
        "* Для каждого уровня образования выведите минимальный балл за экзамен по письму"
      ],
      "metadata": {
        "id": "izOBIWgqMY_S"
      }
    },
    {
      "cell_type": "code",
      "source": [
        "import time\n",
        "from functools import wraps\n",
        "\n",
        "def check_time(func):\n",
        "    @wraps(func)\n",
        "    def wrapper(*args, **kwargs):\n",
        "        start_time = time.time()\n",
        "        result = func(*args, **kwargs)\n",
        "        end_time = time.time()\n",
        "        time_taken = end_time - start_time\n",
        "        print(f\"Функция '{func.__name__}' выполнена за {time_taken:.4f} секунд\")\n",
        "        return result\n",
        "    return wrapper"
      ],
      "metadata": {
        "id": "c5aRGTaYDcSC"
      },
      "execution_count": 61,
      "outputs": []
    },
    {
      "cell_type": "code",
      "execution_count": 62,
      "metadata": {
        "id": "TvC6MauJr1DB"
      },
      "outputs": [],
      "source": [
        "@check_time\n",
        "def st_ma_merge_rename_eth_func(df):\n",
        "\n",
        "  st_ma_merge_rename_eth = st_ma_merge_rename.groupby('race/ethnicity')['reading score'].mean()\n",
        "  return st_ma_merge_rename_eth"
      ]
    },
    {
      "cell_type": "code",
      "source": [
        "@check_time\n",
        "def st_ma_merge_rename_wrt_func(df):\n",
        "\n",
        "  st_ma_merge_rename_wrt = st_ma_merge_rename.groupby('education')['writing score'].min()\n",
        "  return st_ma_merge_rename_wrt"
      ],
      "metadata": {
        "id": "ZKo39lexMeh0"
      },
      "execution_count": 63,
      "outputs": []
    },
    {
      "cell_type": "markdown",
      "metadata": {
        "id": "iufsl6Rvr1DB"
      },
      "source": [
        "### Задание 12"
      ]
    },
    {
      "cell_type": "markdown",
      "source": [
        "Выполните задание 11 с помощью циклов. Сравните время выполнения"
      ],
      "metadata": {
        "id": "nyv-U8ARMTlg"
      }
    },
    {
      "cell_type": "code",
      "execution_count": 64,
      "metadata": {
        "id": "R_sP5oy3r1DC"
      },
      "outputs": [],
      "source": [
        "@check_time\n",
        "def st_ma_merge_rename_eth_for(df):\n",
        "\n",
        "  ethnics_group = st_ma_merge_rename['race/ethnicity'].unique()\n",
        "  averages = {}\n",
        "\n",
        "  for i in ethnics_group:\n",
        "    score = st_ma_merge_rename[st_ma_merge_rename['race/ethnicity'] == i]['reading score']\n",
        "    avg_score = sum(score) / len(score)\n",
        "    averages[i] = avg_score\n",
        "\n",
        "  print(\"Средний балл по чтению для этнических групп:\")\n",
        "  for i, j in averages.items():\n",
        "    print(f\"{i}: {j}\")\n",
        "\n",
        "  return averages"
      ]
    },
    {
      "cell_type": "code",
      "source": [
        "@check_time\n",
        "def edu_class_mins(df):\n",
        "\n",
        "  education_class = st_ma_merge_rename['education'].unique()\n",
        "  edu_mins = {i: min(st_ma_merge_rename[st_ma_merge_rename['education'] == i]['writing score']) for i in education_class}\n",
        "\n",
        "  print(\"Минимальный балл по письму для каждого уровня образования:\")\n",
        "  for i, j in edu_mins.items():\n",
        "    print(f\"{i}: {j}\")\n",
        "\n",
        "  return edu_mins"
      ],
      "metadata": {
        "id": "ZVr5fXw6AQBt"
      },
      "execution_count": 65,
      "outputs": []
    },
    {
      "cell_type": "code",
      "source": [
        "import time\n",
        "\n",
        "df = st_ma_merge_rename\n",
        "\n",
        "def compare_performance(st_ma_merge_rename):\n",
        "    try:\n",
        "        # Измерение времени для Pandas (чтение, этнические группы)\n",
        "        start_time1 = time.time()\n",
        "        st_ma_merge_rename_eth_func(st_ma_merge_rename)\n",
        "        pandas_time = time.time() - start_time1\n",
        "\n",
        "        # Измерение времени для Pandas (письмо, уровень образования)\n",
        "        start_time3 = time.time()\n",
        "        st_ma_merge_rename_wrt_func(st_ma_merge_rename)\n",
        "        pandas_time2 = time.time() - start_time3\n",
        "\n",
        "        # Измерение времени для циклов (чтение, этнические группы)\n",
        "        start_time2 = time.time()\n",
        "        st_ma_merge_rename_eth_for(st_ma_merge_rename)\n",
        "        loops_time = time.time() - start_time2\n",
        "\n",
        "        # Измерение времени для циклов (письмо, уровень образования)\n",
        "        start_time4 = time.time()\n",
        "        edu_class_mins(st_ma_merge_rename)\n",
        "        loops_time2 = time.time() - start_time4\n",
        "\n",
        "        # Сравнение и вывод для чтения\n",
        "        print(f\"\\nСредний балл по чтению для этнических групп:\")\n",
        "        print(f\"Pandas: {pandas_time:.4f} секунд\")\n",
        "        print(f\"Циклы: {loops_time:.4f} секунд\")\n",
        "        if pandas_time < loops_time:\n",
        "            print('Pandas эффективнее')\n",
        "        else:\n",
        "            print('Циклы эффективнее (но это не точно)')\n",
        "\n",
        "        # Сравнение и вывод для письма\n",
        "        print(f\"\\nМинимальный балл по письму для каждого уровня образования:\")\n",
        "        print(f\"Pandas: {pandas_time2:.4f} секунд\")\n",
        "        print(f\"Циклы: {loops_time2:.4f} секунд\")\n",
        "        if pandas_time2 < loops_time2:\n",
        "            print('Pandas эффективнее')\n",
        "        else:\n",
        "            print('Циклы эффективнее (но это не точно)')\n",
        "\n",
        "    except Exception as e:\n",
        "        print(f\"Произошла ошибка: {e}\")\n",
        "\n",
        "# Запускаем сравнение\n",
        "compare_performance(df)"
      ],
      "metadata": {
        "colab": {
          "base_uri": "https://localhost:8080/"
        },
        "id": "K5ha2lejMlbZ",
        "outputId": "c3419885-53ac-4923-bc3a-149777d23f63"
      },
      "execution_count": 66,
      "outputs": [
        {
          "output_type": "stream",
          "name": "stdout",
          "text": [
            "Функция 'st_ma_merge_rename_eth_func' выполнена за 0.0012 секунд\n",
            "Функция 'st_ma_merge_rename_wrt_func' выполнена за 0.0008 секунд\n",
            "Средний балл по чтению для этнических групп:\n",
            "group B: 67.35263157894737\n",
            "group C: 69.10344827586206\n",
            "group A: 64.67415730337079\n",
            "group D: 70.03053435114504\n",
            "group E: 73.02857142857142\n",
            "Функция 'st_ma_merge_rename_eth_for' выполнена за 0.0026 секунд\n",
            "Минимальный балл по письму для каждого уровня образования:\n",
            "bachelor's degree: 38\n",
            "some college: 19\n",
            "master's degree: 46\n",
            "associate's degree: 35\n",
            "high school: 15\n",
            "some high school: 10\n",
            "Функция 'edu_class_mins' выполнена за 0.0026 секунд\n",
            "\n",
            "Средний балл по чтению для этнических групп:\n",
            "Pandas: 0.0014 секунд\n",
            "Циклы: 0.0026 секунд\n",
            "Pandas эффективнее\n",
            "\n",
            "Минимальный балл по письму для каждого уровня образования:\n",
            "Pandas: 0.0008 секунд\n",
            "Циклы: 0.0027 секунд\n",
            "Pandas эффективнее\n"
          ]
        }
      ]
    },
    {
      "cell_type": "markdown",
      "metadata": {
        "id": "eeqPh0-ar1DC"
      },
      "source": [
        "### Задание 13"
      ]
    },
    {
      "cell_type": "markdown",
      "source": [
        "Выведите на экран средние баллы студентов по каждому предмету в зависимости от пола и уровня образования.  \n",
        "То есть должно получиться количество групп, равных 2 * (число уровней образования), и для каждой такой группы выведите средний балл по каждому из предметов.\n",
        "\n",
        "Это можно сделать с помощью сводных таблиц ([pivot_table](https://www.kaggle.com/kamilpolak/tutorial-how-to-use-pivot-table-in-pandas))"
      ],
      "metadata": {
        "id": "vOZzthhpMEis"
      }
    },
    {
      "cell_type": "code",
      "execution_count": 67,
      "metadata": {
        "id": "QHbHlJT6r1DC",
        "outputId": "f359a11c-c24b-4468-93c5-ffbcb4aa2b83",
        "colab": {
          "base_uri": "https://localhost:8080/",
          "height": 457
        }
      },
      "outputs": [
        {
          "output_type": "execute_result",
          "data": {
            "text/plain": [
              "                           math score  reading score  writing score\n",
              "gender education                                                   \n",
              "female associate's degree   65.250000      74.120690      74.000000\n",
              "       bachelor's degree    68.349206      77.285714      78.380952\n",
              "       high school          59.351064      68.202128      66.691489\n",
              "       master's degree      66.500000      76.805556      77.638889\n",
              "       some college         65.406780      73.550847      74.050847\n",
              "       some high school     59.296703      69.109890      68.285714\n",
              "male   associate's degree   70.764151      67.433962      65.405660\n",
              "       bachelor's degree    70.581818      68.090909      67.654545\n",
              "       high school          64.705882      61.480392      58.539216\n",
              "       master's degree      74.826087      73.130435      72.608696\n",
              "       some college         69.009259      64.990741      63.148148\n",
              "       some high school     67.840909      64.693182      61.375000"
            ],
            "text/html": [
              "\n",
              "  <div id=\"df-5fb2aa20-87eb-466d-aae8-f7faf74ab509\" class=\"colab-df-container\">\n",
              "    <div>\n",
              "<style scoped>\n",
              "    .dataframe tbody tr th:only-of-type {\n",
              "        vertical-align: middle;\n",
              "    }\n",
              "\n",
              "    .dataframe tbody tr th {\n",
              "        vertical-align: top;\n",
              "    }\n",
              "\n",
              "    .dataframe thead th {\n",
              "        text-align: right;\n",
              "    }\n",
              "</style>\n",
              "<table border=\"1\" class=\"dataframe\">\n",
              "  <thead>\n",
              "    <tr style=\"text-align: right;\">\n",
              "      <th></th>\n",
              "      <th></th>\n",
              "      <th>math score</th>\n",
              "      <th>reading score</th>\n",
              "      <th>writing score</th>\n",
              "    </tr>\n",
              "    <tr>\n",
              "      <th>gender</th>\n",
              "      <th>education</th>\n",
              "      <th></th>\n",
              "      <th></th>\n",
              "      <th></th>\n",
              "    </tr>\n",
              "  </thead>\n",
              "  <tbody>\n",
              "    <tr>\n",
              "      <th rowspan=\"6\" valign=\"top\">female</th>\n",
              "      <th>associate's degree</th>\n",
              "      <td>65.250000</td>\n",
              "      <td>74.120690</td>\n",
              "      <td>74.000000</td>\n",
              "    </tr>\n",
              "    <tr>\n",
              "      <th>bachelor's degree</th>\n",
              "      <td>68.349206</td>\n",
              "      <td>77.285714</td>\n",
              "      <td>78.380952</td>\n",
              "    </tr>\n",
              "    <tr>\n",
              "      <th>high school</th>\n",
              "      <td>59.351064</td>\n",
              "      <td>68.202128</td>\n",
              "      <td>66.691489</td>\n",
              "    </tr>\n",
              "    <tr>\n",
              "      <th>master's degree</th>\n",
              "      <td>66.500000</td>\n",
              "      <td>76.805556</td>\n",
              "      <td>77.638889</td>\n",
              "    </tr>\n",
              "    <tr>\n",
              "      <th>some college</th>\n",
              "      <td>65.406780</td>\n",
              "      <td>73.550847</td>\n",
              "      <td>74.050847</td>\n",
              "    </tr>\n",
              "    <tr>\n",
              "      <th>some high school</th>\n",
              "      <td>59.296703</td>\n",
              "      <td>69.109890</td>\n",
              "      <td>68.285714</td>\n",
              "    </tr>\n",
              "    <tr>\n",
              "      <th rowspan=\"6\" valign=\"top\">male</th>\n",
              "      <th>associate's degree</th>\n",
              "      <td>70.764151</td>\n",
              "      <td>67.433962</td>\n",
              "      <td>65.405660</td>\n",
              "    </tr>\n",
              "    <tr>\n",
              "      <th>bachelor's degree</th>\n",
              "      <td>70.581818</td>\n",
              "      <td>68.090909</td>\n",
              "      <td>67.654545</td>\n",
              "    </tr>\n",
              "    <tr>\n",
              "      <th>high school</th>\n",
              "      <td>64.705882</td>\n",
              "      <td>61.480392</td>\n",
              "      <td>58.539216</td>\n",
              "    </tr>\n",
              "    <tr>\n",
              "      <th>master's degree</th>\n",
              "      <td>74.826087</td>\n",
              "      <td>73.130435</td>\n",
              "      <td>72.608696</td>\n",
              "    </tr>\n",
              "    <tr>\n",
              "      <th>some college</th>\n",
              "      <td>69.009259</td>\n",
              "      <td>64.990741</td>\n",
              "      <td>63.148148</td>\n",
              "    </tr>\n",
              "    <tr>\n",
              "      <th>some high school</th>\n",
              "      <td>67.840909</td>\n",
              "      <td>64.693182</td>\n",
              "      <td>61.375000</td>\n",
              "    </tr>\n",
              "  </tbody>\n",
              "</table>\n",
              "</div>\n",
              "    <div class=\"colab-df-buttons\">\n",
              "\n",
              "  <div class=\"colab-df-container\">\n",
              "    <button class=\"colab-df-convert\" onclick=\"convertToInteractive('df-5fb2aa20-87eb-466d-aae8-f7faf74ab509')\"\n",
              "            title=\"Convert this dataframe to an interactive table.\"\n",
              "            style=\"display:none;\">\n",
              "\n",
              "  <svg xmlns=\"http://www.w3.org/2000/svg\" height=\"24px\" viewBox=\"0 -960 960 960\">\n",
              "    <path d=\"M120-120v-720h720v720H120Zm60-500h600v-160H180v160Zm220 220h160v-160H400v160Zm0 220h160v-160H400v160ZM180-400h160v-160H180v160Zm440 0h160v-160H620v160ZM180-180h160v-160H180v160Zm440 0h160v-160H620v160Z\"/>\n",
              "  </svg>\n",
              "    </button>\n",
              "\n",
              "  <style>\n",
              "    .colab-df-container {\n",
              "      display:flex;\n",
              "      gap: 12px;\n",
              "    }\n",
              "\n",
              "    .colab-df-convert {\n",
              "      background-color: #E8F0FE;\n",
              "      border: none;\n",
              "      border-radius: 50%;\n",
              "      cursor: pointer;\n",
              "      display: none;\n",
              "      fill: #1967D2;\n",
              "      height: 32px;\n",
              "      padding: 0 0 0 0;\n",
              "      width: 32px;\n",
              "    }\n",
              "\n",
              "    .colab-df-convert:hover {\n",
              "      background-color: #E2EBFA;\n",
              "      box-shadow: 0px 1px 2px rgba(60, 64, 67, 0.3), 0px 1px 3px 1px rgba(60, 64, 67, 0.15);\n",
              "      fill: #174EA6;\n",
              "    }\n",
              "\n",
              "    .colab-df-buttons div {\n",
              "      margin-bottom: 4px;\n",
              "    }\n",
              "\n",
              "    [theme=dark] .colab-df-convert {\n",
              "      background-color: #3B4455;\n",
              "      fill: #D2E3FC;\n",
              "    }\n",
              "\n",
              "    [theme=dark] .colab-df-convert:hover {\n",
              "      background-color: #434B5C;\n",
              "      box-shadow: 0px 1px 3px 1px rgba(0, 0, 0, 0.15);\n",
              "      filter: drop-shadow(0px 1px 2px rgba(0, 0, 0, 0.3));\n",
              "      fill: #FFFFFF;\n",
              "    }\n",
              "  </style>\n",
              "\n",
              "    <script>\n",
              "      const buttonEl =\n",
              "        document.querySelector('#df-5fb2aa20-87eb-466d-aae8-f7faf74ab509 button.colab-df-convert');\n",
              "      buttonEl.style.display =\n",
              "        google.colab.kernel.accessAllowed ? 'block' : 'none';\n",
              "\n",
              "      async function convertToInteractive(key) {\n",
              "        const element = document.querySelector('#df-5fb2aa20-87eb-466d-aae8-f7faf74ab509');\n",
              "        const dataTable =\n",
              "          await google.colab.kernel.invokeFunction('convertToInteractive',\n",
              "                                                    [key], {});\n",
              "        if (!dataTable) return;\n",
              "\n",
              "        const docLinkHtml = 'Like what you see? Visit the ' +\n",
              "          '<a target=\"_blank\" href=https://colab.research.google.com/notebooks/data_table.ipynb>data table notebook</a>'\n",
              "          + ' to learn more about interactive tables.';\n",
              "        element.innerHTML = '';\n",
              "        dataTable['output_type'] = 'display_data';\n",
              "        await google.colab.output.renderOutput(dataTable, element);\n",
              "        const docLink = document.createElement('div');\n",
              "        docLink.innerHTML = docLinkHtml;\n",
              "        element.appendChild(docLink);\n",
              "      }\n",
              "    </script>\n",
              "  </div>\n",
              "\n",
              "\n",
              "<div id=\"df-c2316d94-1bcc-4181-afb5-beffd87632b4\">\n",
              "  <button class=\"colab-df-quickchart\" onclick=\"quickchart('df-c2316d94-1bcc-4181-afb5-beffd87632b4')\"\n",
              "            title=\"Suggest charts\"\n",
              "            style=\"display:none;\">\n",
              "\n",
              "<svg xmlns=\"http://www.w3.org/2000/svg\" height=\"24px\"viewBox=\"0 0 24 24\"\n",
              "     width=\"24px\">\n",
              "    <g>\n",
              "        <path d=\"M19 3H5c-1.1 0-2 .9-2 2v14c0 1.1.9 2 2 2h14c1.1 0 2-.9 2-2V5c0-1.1-.9-2-2-2zM9 17H7v-7h2v7zm4 0h-2V7h2v10zm4 0h-2v-4h2v4z\"/>\n",
              "    </g>\n",
              "</svg>\n",
              "  </button>\n",
              "\n",
              "<style>\n",
              "  .colab-df-quickchart {\n",
              "      --bg-color: #E8F0FE;\n",
              "      --fill-color: #1967D2;\n",
              "      --hover-bg-color: #E2EBFA;\n",
              "      --hover-fill-color: #174EA6;\n",
              "      --disabled-fill-color: #AAA;\n",
              "      --disabled-bg-color: #DDD;\n",
              "  }\n",
              "\n",
              "  [theme=dark] .colab-df-quickchart {\n",
              "      --bg-color: #3B4455;\n",
              "      --fill-color: #D2E3FC;\n",
              "      --hover-bg-color: #434B5C;\n",
              "      --hover-fill-color: #FFFFFF;\n",
              "      --disabled-bg-color: #3B4455;\n",
              "      --disabled-fill-color: #666;\n",
              "  }\n",
              "\n",
              "  .colab-df-quickchart {\n",
              "    background-color: var(--bg-color);\n",
              "    border: none;\n",
              "    border-radius: 50%;\n",
              "    cursor: pointer;\n",
              "    display: none;\n",
              "    fill: var(--fill-color);\n",
              "    height: 32px;\n",
              "    padding: 0;\n",
              "    width: 32px;\n",
              "  }\n",
              "\n",
              "  .colab-df-quickchart:hover {\n",
              "    background-color: var(--hover-bg-color);\n",
              "    box-shadow: 0 1px 2px rgba(60, 64, 67, 0.3), 0 1px 3px 1px rgba(60, 64, 67, 0.15);\n",
              "    fill: var(--button-hover-fill-color);\n",
              "  }\n",
              "\n",
              "  .colab-df-quickchart-complete:disabled,\n",
              "  .colab-df-quickchart-complete:disabled:hover {\n",
              "    background-color: var(--disabled-bg-color);\n",
              "    fill: var(--disabled-fill-color);\n",
              "    box-shadow: none;\n",
              "  }\n",
              "\n",
              "  .colab-df-spinner {\n",
              "    border: 2px solid var(--fill-color);\n",
              "    border-color: transparent;\n",
              "    border-bottom-color: var(--fill-color);\n",
              "    animation:\n",
              "      spin 1s steps(1) infinite;\n",
              "  }\n",
              "\n",
              "  @keyframes spin {\n",
              "    0% {\n",
              "      border-color: transparent;\n",
              "      border-bottom-color: var(--fill-color);\n",
              "      border-left-color: var(--fill-color);\n",
              "    }\n",
              "    20% {\n",
              "      border-color: transparent;\n",
              "      border-left-color: var(--fill-color);\n",
              "      border-top-color: var(--fill-color);\n",
              "    }\n",
              "    30% {\n",
              "      border-color: transparent;\n",
              "      border-left-color: var(--fill-color);\n",
              "      border-top-color: var(--fill-color);\n",
              "      border-right-color: var(--fill-color);\n",
              "    }\n",
              "    40% {\n",
              "      border-color: transparent;\n",
              "      border-right-color: var(--fill-color);\n",
              "      border-top-color: var(--fill-color);\n",
              "    }\n",
              "    60% {\n",
              "      border-color: transparent;\n",
              "      border-right-color: var(--fill-color);\n",
              "    }\n",
              "    80% {\n",
              "      border-color: transparent;\n",
              "      border-right-color: var(--fill-color);\n",
              "      border-bottom-color: var(--fill-color);\n",
              "    }\n",
              "    90% {\n",
              "      border-color: transparent;\n",
              "      border-bottom-color: var(--fill-color);\n",
              "    }\n",
              "  }\n",
              "</style>\n",
              "\n",
              "  <script>\n",
              "    async function quickchart(key) {\n",
              "      const quickchartButtonEl =\n",
              "        document.querySelector('#' + key + ' button');\n",
              "      quickchartButtonEl.disabled = true;  // To prevent multiple clicks.\n",
              "      quickchartButtonEl.classList.add('colab-df-spinner');\n",
              "      try {\n",
              "        const charts = await google.colab.kernel.invokeFunction(\n",
              "            'suggestCharts', [key], {});\n",
              "      } catch (error) {\n",
              "        console.error('Error during call to suggestCharts:', error);\n",
              "      }\n",
              "      quickchartButtonEl.classList.remove('colab-df-spinner');\n",
              "      quickchartButtonEl.classList.add('colab-df-quickchart-complete');\n",
              "    }\n",
              "    (() => {\n",
              "      let quickchartButtonEl =\n",
              "        document.querySelector('#df-c2316d94-1bcc-4181-afb5-beffd87632b4 button');\n",
              "      quickchartButtonEl.style.display =\n",
              "        google.colab.kernel.accessAllowed ? 'block' : 'none';\n",
              "    })();\n",
              "  </script>\n",
              "</div>\n",
              "\n",
              "  <div id=\"id_fee48db0-7890-4163-b03d-a96443056e70\">\n",
              "    <style>\n",
              "      .colab-df-generate {\n",
              "        background-color: #E8F0FE;\n",
              "        border: none;\n",
              "        border-radius: 50%;\n",
              "        cursor: pointer;\n",
              "        display: none;\n",
              "        fill: #1967D2;\n",
              "        height: 32px;\n",
              "        padding: 0 0 0 0;\n",
              "        width: 32px;\n",
              "      }\n",
              "\n",
              "      .colab-df-generate:hover {\n",
              "        background-color: #E2EBFA;\n",
              "        box-shadow: 0px 1px 2px rgba(60, 64, 67, 0.3), 0px 1px 3px 1px rgba(60, 64, 67, 0.15);\n",
              "        fill: #174EA6;\n",
              "      }\n",
              "\n",
              "      [theme=dark] .colab-df-generate {\n",
              "        background-color: #3B4455;\n",
              "        fill: #D2E3FC;\n",
              "      }\n",
              "\n",
              "      [theme=dark] .colab-df-generate:hover {\n",
              "        background-color: #434B5C;\n",
              "        box-shadow: 0px 1px 3px 1px rgba(0, 0, 0, 0.15);\n",
              "        filter: drop-shadow(0px 1px 2px rgba(0, 0, 0, 0.3));\n",
              "        fill: #FFFFFF;\n",
              "      }\n",
              "    </style>\n",
              "    <button class=\"colab-df-generate\" onclick=\"generateWithVariable('pivot_result')\"\n",
              "            title=\"Generate code using this dataframe.\"\n",
              "            style=\"display:none;\">\n",
              "\n",
              "  <svg xmlns=\"http://www.w3.org/2000/svg\" height=\"24px\"viewBox=\"0 0 24 24\"\n",
              "       width=\"24px\">\n",
              "    <path d=\"M7,19H8.4L18.45,9,17,7.55,7,17.6ZM5,21V16.75L18.45,3.32a2,2,0,0,1,2.83,0l1.4,1.43a1.91,1.91,0,0,1,.58,1.4,1.91,1.91,0,0,1-.58,1.4L9.25,21ZM18.45,9,17,7.55Zm-12,3A5.31,5.31,0,0,0,4.9,8.1,5.31,5.31,0,0,0,1,6.5,5.31,5.31,0,0,0,4.9,4.9,5.31,5.31,0,0,0,6.5,1,5.31,5.31,0,0,0,8.1,4.9,5.31,5.31,0,0,0,12,6.5,5.46,5.46,0,0,0,6.5,12Z\"/>\n",
              "  </svg>\n",
              "    </button>\n",
              "    <script>\n",
              "      (() => {\n",
              "      const buttonEl =\n",
              "        document.querySelector('#id_fee48db0-7890-4163-b03d-a96443056e70 button.colab-df-generate');\n",
              "      buttonEl.style.display =\n",
              "        google.colab.kernel.accessAllowed ? 'block' : 'none';\n",
              "\n",
              "      buttonEl.onclick = () => {\n",
              "        google.colab.notebook.generateWithVariable('pivot_result');\n",
              "      }\n",
              "      })();\n",
              "    </script>\n",
              "  </div>\n",
              "\n",
              "    </div>\n",
              "  </div>\n"
            ],
            "application/vnd.google.colaboratory.intrinsic+json": {
              "type": "dataframe",
              "variable_name": "pivot_result",
              "summary": "{\n  \"name\": \"pivot_result\",\n  \"rows\": 12,\n  \"fields\": [\n    {\n      \"column\": \"math score\",\n      \"properties\": {\n        \"dtype\": \"number\",\n        \"std\": 4.506535199210216,\n        \"min\": 59.2967032967033,\n        \"max\": 74.82608695652173,\n        \"num_unique_values\": 12,\n        \"samples\": [\n          69.00925925925925,\n          74.82608695652173,\n          65.25\n        ],\n        \"semantic_type\": \"\",\n        \"description\": \"\"\n      }\n    },\n    {\n      \"column\": \"reading score\",\n      \"properties\": {\n        \"dtype\": \"number\",\n        \"std\": 5.034211334454809,\n        \"min\": 61.48039215686274,\n        \"max\": 77.28571428571429,\n        \"num_unique_values\": 12,\n        \"samples\": [\n          64.99074074074075,\n          73.1304347826087,\n          74.12068965517241\n        ],\n        \"semantic_type\": \"\",\n        \"description\": \"\"\n      }\n    },\n    {\n      \"column\": \"writing score\",\n      \"properties\": {\n        \"dtype\": \"number\",\n        \"std\": 6.385666499999097,\n        \"min\": 58.53921568627451,\n        \"max\": 78.38095238095238,\n        \"num_unique_values\": 12,\n        \"samples\": [\n          63.148148148148145,\n          72.6086956521739,\n          74.0\n        ],\n        \"semantic_type\": \"\",\n        \"description\": \"\"\n      }\n    }\n  ]\n}"
            }
          },
          "metadata": {},
          "execution_count": 67
        }
      ],
      "source": [
        "# ваш код здесь\n",
        "pivot_result = pd.pivot_table(st_ma_merge_rename,\n",
        "                             values=['math score', 'reading score', 'writing score'],\n",
        "                             index=['gender', 'education'],\n",
        "                             aggfunc='mean')\n",
        "pivot_result"
      ]
    },
    {
      "cell_type": "markdown",
      "metadata": {
        "_uuid": "3e832cb427c4314582d1953a41b8c78db75e30e3",
        "id": "K2dzmojsr1DC"
      },
      "source": [
        "### Задание 14"
      ]
    },
    {
      "cell_type": "markdown",
      "source": [
        "Сколько студентов успешно сдали экзамен по математике?\n",
        "\n",
        "Создайте новый столбец в таблице `df` под названием `Math_PassStatus` и запишите в него F, если студент не сдал экзамен по математике (балл за экзамен < passmark), и P иначе.\n",
        "\n",
        "Посчитайте количество студентов, сдавших и не сдавших экзамен по математике.\n",
        "\n",
        "Сделайте аналогичные шаги для экзаменов по чтению и письму."
      ],
      "metadata": {
        "id": "G5EgmLmALpsb"
      }
    },
    {
      "cell_type": "code",
      "execution_count": 68,
      "metadata": {
        "_uuid": "f43cddb72cc96b30df84bc0de83a4d9170904340",
        "id": "6CWO_CTMr1DC",
        "colab": {
          "base_uri": "https://localhost:8080/"
        },
        "outputId": "f44a7f46-1cc5-460b-e4e5-24d9cda53f3a"
      },
      "outputs": [
        {
          "output_type": "stream",
          "name": "stdout",
          "text": [
            "Математика: Сдали 865, Не сдали 135\n",
            "Чтение: Сдали 910, Не сдали 90\n",
            "Письмо: Сдали 886, Не сдали 114\n"
          ]
        }
      ],
      "source": [
        "# Математика\n",
        "df['Math_PassStatus'] = df['math score'].apply(lambda x: 'P' if x >= passmark else 'F')\n",
        "math_pass = (df['Math_PassStatus'] == 'P').sum()\n",
        "math_fail = (df['Math_PassStatus'] == 'F').sum()\n",
        "\n",
        "# Чтение\n",
        "df['Reading_PassStatus'] = df['reading score'].apply(lambda x: 'P' if x >= passmark else 'F')\n",
        "reading_pass = (df['Reading_PassStatus'] == 'P').sum()\n",
        "reading_fail = (df['Reading_PassStatus'] == 'F').sum()\n",
        "\n",
        "# Письмо\n",
        "df['Writing_PassStatus'] = df['writing score'].apply(lambda x: 'P' if x >= passmark else 'F')\n",
        "writing_pass = (df['Writing_PassStatus'] == 'P').sum()\n",
        "writing_fail = (df['Writing_PassStatus'] == 'F').sum()\n",
        "\n",
        "# Вывод результатов\n",
        "print(f\"Математика: Сдали {math_pass}, Не сдали {math_fail}\")\n",
        "print(f\"Чтение: Сдали {reading_pass}, Не сдали {reading_fail}\")\n",
        "print(f\"Письмо: Сдали {writing_pass}, Не сдали {writing_fail}\")"
      ]
    },
    {
      "cell_type": "markdown",
      "metadata": {
        "_uuid": "b753c90914ee65501e2ed263ea614d88a381c472",
        "id": "0qNtF6SJr1DC"
      },
      "source": [
        "### Задание 15"
      ]
    },
    {
      "cell_type": "markdown",
      "source": [
        "Сколько студентов успешно сдали все экзамены?\n",
        "\n",
        "Создайте столбец `OverAll_PassStatus` и запишите в него для каждого студента 'F', если студент не сдал хотя бы один из трех экзаменов, а иначе 'P'.\n",
        "\n",
        "Посчитайте количество студентов, которые сдали все экзамены."
      ],
      "metadata": {
        "id": "sp71dDr3Lb-L"
      }
    },
    {
      "cell_type": "code",
      "execution_count": null,
      "metadata": {
        "_uuid": "e98f895a022b967cab801447b616222439fe9d84",
        "id": "8bZEVcDMr1DC"
      },
      "outputs": [],
      "source": [
        "# ваш код здесь\n",
        "..."
      ]
    },
    {
      "cell_type": "markdown",
      "metadata": {
        "_uuid": "3af9c6cb4cbfff66d4ae09509f10b8b6ce33075d",
        "id": "oezdmPXGr1DC"
      },
      "source": [
        "### Задание 16"
      ]
    },
    {
      "cell_type": "markdown",
      "source": [
        "Переведем баллы в оценки\n",
        "\n",
        "**Система перевода баллов в оценки**\n",
        "*   [90;100] = A\n",
        "*   [80;90) = B\n",
        "*   [70;80) = C\n",
        "*   [60;70) = D\n",
        "*   [50;60) = E\n",
        "*   [0;50) = F (Fail)\n",
        "\n",
        "Создайте вспомогательную функцию, которая будет по среднему баллу за три экзамена выставлять оценку студенту по данным выше критериям.\n",
        "\n",
        "Создайте столбец `Grade` и запишите в него оценку каждого студента.\n",
        "\n",
        "Выведите количество студентов, получивших каждую из оценок."
      ],
      "metadata": {
        "id": "hLJJR1GqLDc0"
      }
    },
    {
      "cell_type": "code",
      "execution_count": null,
      "metadata": {
        "_uuid": "04707c5be4237020b906d2ac705a0db3d620506f",
        "id": "tLSML7yrr1DD"
      },
      "outputs": [],
      "source": [
        "def GetGrade(average_mark):\n",
        "    # ваш код здесь\n",
        "    ...\n",
        "\n",
        "# ваш код здесь\n",
        "..."
      ]
    }
  ],
  "metadata": {
    "kernelspec": {
      "display_name": "Python 3 (ipykernel)",
      "language": "python",
      "name": "python3"
    },
    "language_info": {
      "codemirror_mode": {
        "name": "ipython",
        "version": 3
      },
      "file_extension": ".py",
      "mimetype": "text/x-python",
      "name": "python",
      "nbconvert_exporter": "python",
      "pygments_lexer": "ipython3",
      "version": "3.9.12"
    },
    "colab": {
      "provenance": [],
      "name": "[2] Домашнее задание 1. Знакомство с библиотекой Pandas.ipynb",
      "include_colab_link": true
    }
  },
  "nbformat": 4,
  "nbformat_minor": 0
}